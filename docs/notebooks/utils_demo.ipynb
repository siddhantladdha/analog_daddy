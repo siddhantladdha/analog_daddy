{
 "cells": [
  {
   "cell_type": "markdown",
   "metadata": {},
   "source": [
    "# Demo for Utilities Functions"
   ]
  },
  {
   "cell_type": "markdown",
   "metadata": {},
   "source": [
    "## Output Expression Writer\n",
    "\n",
    "Now that you have designed your circuit and are simulating it you would like to verify the DC operating and small signal\n",
    "parameters to be close to what you are expecting. DC operating point annotation while convenient is not scalable and\n",
    "is impractical for multiple corners. Addtionally, it makes your GUI laggy.\n",
    "\n",
    "Output expressions are a great way to focus on the\n",
    "key parameters as well as add specs to the parameters. However, doing so for multiple devices and multiple expressions\n",
    "using maestro is impractical. Luckily, you can import a CSV with the expressions in a specific format which makes life\n",
    "easier. The function `write_expr_csv()` does exactly that."
   ]
  },
  {
   "cell_type": "code",
   "execution_count": 1,
   "metadata": {},
   "outputs": [],
   "source": [
    "import sys\n",
    "import os\n",
    "\n",
    "# Append the path of your library to the system path\n",
    "sys.path.append(os.path.abspath(\"../../\"))\n",
    "from analog_daddy.conf import *\n",
    "from analog_daddy.utils import write_expr_csv"
   ]
  },
  {
   "cell_type": "code",
   "execution_count": 2,
   "metadata": {},
   "outputs": [
    {
     "name": "stdout",
     "output_type": "stream",
     "text": [
      "Data written to test_expressions.csv\n"
     ]
    }
   ],
   "source": [
    "# Example usage\n",
    "filename = \"test_expressions.csv\"\n",
    "# Make sure the name of your test matched\n",
    "# the following string otherwise your expressions will not import at all\n",
    "test_name = \"dc\"\n",
    "# Most likely the devices of interest will be inside a testbench instance\n",
    "instance_str = \"I0\"\n",
    "\n",
    "# Example empty circuit dict. You can use your actual circuit dict here\n",
    "circuit = {\"gm_pair\": {}, \"load_pair\": {}}\n",
    "\n",
    "write_expr_csv(filename,test_name, \"I0\", circuit)"
   ]
  }
 ],
 "metadata": {
  "kernelspec": {
   "display_name": "workspace_env",
   "language": "python",
   "name": "python3"
  },
  "language_info": {
   "codemirror_mode": {
    "name": "ipython",
    "version": 3
   },
   "file_extension": ".py",
   "mimetype": "text/x-python",
   "name": "python",
   "nbconvert_exporter": "python",
   "pygments_lexer": "ipython3",
   "version": "3.11.6"
  }
 },
 "nbformat": 4,
 "nbformat_minor": 2
}
