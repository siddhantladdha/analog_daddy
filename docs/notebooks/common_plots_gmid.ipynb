{
 "cells": [
  {
   "cell_type": "markdown",
   "metadata": {},
   "source": [
    "# Introduction\n",
    "\n",
    "Hopefully the [Usage Demo Notebook](./usage_demo.ipynb) made you comfortable in using the `look_up` function. Now, this notebook will have demo plots that I generally use in design using ${g_{m}}\\over{i_{d}}$ methodology which will henceforth be typed as gm_id methodology. This methodology treats gm_id as an independent variable in addition to Length and bias current. All of them when selected appropriately should give you a transistor biased to be used as an active device.\n",
    "\n",
    "This is just one of the templates that I use and you can create a template of your choice and use your methodology of choice. For example, instead of gm/id as an independent variable you use [inversion coefficient as the independent variable](https://kevinfronczak.com/blog/inversion-coefficient-based-circuit-design) or any other.\n",
    "\n",
    "However, at the core of any methodology is the Look up Table (LUT) you will access and hence the need to iterate device dimensions to achieve the correct biasing should be minimal.\n",
    "\n",
    "Note: These plots will always be W.I.P, hence if you don't like certain changes you can always access the historical versions!"
   ]
  },
  {
   "cell_type": "markdown",
   "metadata": {},
   "source": [
    "The following code block essentially imports/includes the necessary libraries. Additionally, it tries to import the config file named `conf.py`. You defined the values in this file in [Import Demo](./import_demo.ipynb). Do not attempt to write this file manually. If you want to rewrite head back to the relevant section of [Import Demo](./import_demo.ipynb). Make sure to append the correct library path to the system path. In case you are using the `docs/notebooks` directory `../../` is your library path."
   ]
  },
  {
   "cell_type": "code",
   "execution_count": null,
   "metadata": {},
   "outputs": [],
   "source": [
    "import sys\n",
    "import os\n",
    "import numpy as np\n",
    "import pandas as pd\n",
    "import plotly.express as px\n",
    "import plotly.graph_objects as go\n",
    "# Append the path of your library to the system path\n",
    "sys.path.append(os.path.abspath(\"../../\"))\n",
    "from analog_daddy.look_up import look_up\n",
    "from analog_daddy.utils import pretty_print_structure, describe_structure\n",
    "from analog_daddy.conf import * # import all the config variables"
   ]
  },
  {
   "cell_type": "code",
   "execution_count": null,
   "metadata": {},
   "outputs": [],
   "source": [
    "DATABASE_ROOT_PATH = \"../../ignored_folder/databases/\"\n",
    "PDK_NAME = \"freepdk45\"\n",
    "FILE_NAME = \"nom_25.npy\"\n",
    "DATABASE_LUT_PATH = os.path.join(DATABASE_ROOT_PATH, PDK_NAME, \"NPY\", FILE_NAME)\n",
    "z = np.load(DATABASE_LUT_PATH, allow_pickle=True).item()\n",
    "nmos = z['nmos_vth']\n",
    "pmos = z['pmos_vth']"
   ]
  },
  {
   "cell_type": "code",
   "execution_count": null,
   "metadata": {},
   "outputs": [],
   "source": [
    "# You can use the following to print the structure of device if you get confused\n",
    "# about the keys or min and max values in the conf file.\n",
    "# pretty_print_structure(describe_structure(nmos))"
   ]
  },
  {
   "cell_type": "markdown",
   "metadata": {},
   "source": [
    "## $\\mu_f$ vs ${g_m}\\over{i_d}$ for different lengths"
   ]
  },
  {
   "cell_type": "code",
   "execution_count": null,
   "metadata": {},
   "outputs": [],
   "source": [
    "# The following one liner does the following.\n",
    "# It looks up the value of Intrinsic gain (gm_gds or u_f)\n",
    "# for the given range of gm_id.\n",
    "# for the given lengths sweeps. the six linearly spaced gate source voltages from 0 to VDD and a source bulk voltage of 0.\n",
    "gm_id_sweep = np.linspace(5, 25, 15)\n",
    "length_sweep = np.linspace(L_MIN, L_MAX, 10)\n",
    "\n",
    "gm_gds_nmos = np.array([look_up(nmos, 'gm_gds', gm_id=gm_id_sweep, length=length) for length in length_sweep])\n",
    "gm_gds_pmos = np.array([look_up(pmos, 'gm_gds', gm_id=gm_id_sweep, length=length) for length in length_sweep])\n",
    "fig = go.Figure()\n",
    "\n",
    "for idx, length in enumerate(length_sweep):\n",
    "    fig.add_trace(go.Scatter(x=gm_id_sweep, y=gm_gds_nmos[idx], mode='lines', name=f'L={length} m'))\n",
    "\n",
    "fig.update_layout(title='Parametric Plot of gm_gds vs gm_id for different lengths', xaxis_title='gm_id', yaxis_title='gm_gds')\n",
    "fig.show()"
   ]
  },
  {
   "cell_type": "markdown",
   "metadata": {},
   "source": [
    "## $f_t$ vs ${g_m}\\over{i_d}$ for different lengths"
   ]
  },
  {
   "cell_type": "markdown",
   "metadata": {},
   "source": [
    "## ${g_{ds}}\\over{i_d}$ vs ${g_m}\\over{i_d}$ for different lengths"
   ]
  }
 ],
 "metadata": {
  "kernelspec": {
   "display_name": "base",
   "language": "python",
   "name": "python3"
  },
  "language_info": {
   "codemirror_mode": {
    "name": "ipython",
    "version": 3
   },
   "file_extension": ".py",
   "mimetype": "text/x-python",
   "name": "python",
   "nbconvert_exporter": "python",
   "pygments_lexer": "ipython3",
   "version": "3.11.6"
  }
 },
 "nbformat": 4,
 "nbformat_minor": 2
}
