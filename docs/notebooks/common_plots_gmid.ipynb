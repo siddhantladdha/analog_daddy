{
 "cells": [
  {
   "cell_type": "markdown",
   "metadata": {},
   "source": [
    "# Introduction\n",
    "\n",
    "Hopefully the [Usage Demo Notebook](./usage_demo.ipynb) made you comfortable in using the `look_up` function. Now, this notebook will have demo plots that I generally use in design using ${g_{m}}\\over{i_{d}}$ methodology which will henceforth be typed as gm_id methodology. This methodology treats gm_id as an independent variable in addition to Length and bias current. All of them when selected appropriately should give you a transistor biased to be used as an active device.\n",
    "\n",
    "This is just one of the templates that I use and you can create a template of your choice and use your methodology of choice. For example, instead of gm/id as an independent variable you use [inversion coefficient as the independent variable](https://kevinfronczak.com/blog/inversion-coefficient-based-circuit-design) or any other.\n",
    "\n",
    "However, at the core of any methodology is the Look up Table (LUT) you will access and hence the need to iterate device dimensions to achieve the correct biasing should be minimal.\n",
    "\n",
    "Note: These plots will always be W.I.P, hence if you don't like certain changes you can always access the historical versions!"
   ]
  },
  {
   "cell_type": "markdown",
   "metadata": {},
   "source": [
    "The following code block essentially imports/includes the necessary libraries. Additionally, it tries to import the config file named `conf.py`. You defined the values in this file in [Import Demo](./import_demo.ipynb). Do not attempt to write this file manually. If you want to rewrite head back to the relevant section of [Import Demo](./import_demo.ipynb). Make sure to append the correct library path to the system path. In case you are using the `docs/notebooks` directory `../../` is your library path."
   ]
  },
  {
   "cell_type": "code",
   "execution_count": 1,
   "metadata": {},
   "outputs": [],
   "source": [
    "import sys\n",
    "import os\n",
    "import numpy as np\n",
    "import pandas as pd\n",
    "import plotly.express as px\n",
    "import plotly.graph_objects as go\n",
    "# Append the path of your library to the system path\n",
    "sys.path.append(os.path.abspath(\"../../\"))\n",
    "from analog_daddy.look_up import look_up\n",
    "from analog_daddy.utils import pretty_print_structure, describe_structure, look_upW, look_upW_circuit, print_circuit, print_transistor\n",
    "from analog_daddy.conf import * # import all the config variables"
   ]
  },
  {
   "cell_type": "code",
   "execution_count": 2,
   "metadata": {},
   "outputs": [],
   "source": [
    "DATABASE_ROOT_PATH = \"../../ignored_folder/databases/\"\n",
    "PDK_NAME = \"freepdk45\"\n",
    "FILE_NAME = \"nom_25.npy\"\n",
    "DATABASE_LUT_PATH = os.path.join(DATABASE_ROOT_PATH, PDK_NAME, \"NPY\", FILE_NAME)\n",
    "lut_root = np.load(DATABASE_LUT_PATH, allow_pickle=True).item()\n",
    "nmos = lut_root['nmos_vth']\n",
    "pmos = lut_root['pmos_vth']"
   ]
  },
  {
   "cell_type": "code",
   "execution_count": 3,
   "metadata": {},
   "outputs": [],
   "source": [
    "# You can use the following to print the structure of device if you get confused\n",
    "# about the keys or min and max values in the conf file.\n",
    "# pretty_print_structure(describe_structure(nmos))"
   ]
  },
  {
   "cell_type": "markdown",
   "metadata": {},
   "source": [
    "## Generic Code\n",
    "\n",
    "Life is too short to change specifics as well as keep on creating redundant templates.\n",
    "You can change `outvar` to `gm_cgg`,`gds_id` or any valid ratio.\n",
    "Uncomment `length_sweep` variables to get get usable graphs for design and to better observe tradeoffs. "
   ]
  },
  {
   "cell_type": "code",
   "execution_count": 4,
   "metadata": {},
   "outputs": [
    {
     "data": {
      "application/vnd.plotly.v1+json": {
       "config": {
        "plotlyServerURL": "https://plot.ly"
       },
       "data": [
        {
         "mode": "lines",
         "name": "L=4.5e-08 m",
         "type": "scatter",
         "x": [
          5,
          6.428571428571429,
          7.857142857142858,
          9.285714285714285,
          10.714285714285715,
          12.142857142857142,
          13.571428571428571,
          15,
          16.42857142857143,
          17.857142857142858,
          19.285714285714285,
          20.714285714285715,
          22.142857142857142,
          23.571428571428573,
          25
         ],
         "y": [
          12.640207072766675,
          13.751582480300408,
          14.48576480204755,
          15.010884883716038,
          15.404154499558473,
          15.712668269553767,
          15.958203826415017,
          16.159399776420457,
          16.32655933553423,
          16.46642184349387,
          16.588329870459365,
          16.704395027091337,
          16.830942102815897,
          16.97300222103217,
          17.12904133202913
         ]
        },
        {
         "mode": "lines",
         "name": "L=1.5875e-07 m",
         "type": "scatter",
         "x": [
          5,
          6.428571428571429,
          7.857142857142858,
          9.285714285714285,
          10.714285714285715,
          12.142857142857142,
          13.571428571428571,
          15,
          16.42857142857143,
          17.857142857142858,
          19.285714285714285,
          20.714285714285715,
          22.142857142857142,
          23.571428571428573,
          25
         ],
         "y": [
          55.33751264628917,
          76.33666071434999,
          93.82404112087404,
          108.54256654212412,
          121.00854005418773,
          131.53756364018096,
          140.3900906336451,
          147.60722794205438,
          153.28770366830975,
          157.36543118972702,
          159.76823480396652,
          160.85774175607852,
          162.52933114606003,
          166.1521198917666,
          171.03787697991012
         ]
        },
        {
         "mode": "lines",
         "name": "L=2.725e-07 m",
         "type": "scatter",
         "x": [
          5,
          6.428571428571429,
          7.857142857142858,
          9.285714285714285,
          10.714285714285715,
          12.142857142857142,
          13.571428571428571,
          15,
          16.42857142857143,
          17.857142857142858,
          19.285714285714285,
          20.714285714285715,
          22.142857142857142,
          23.571428571428573,
          25
         ],
         "y": [
          74.91060207568965,
          110.89520927767103,
          142.58109093493204,
          170.57204011567012,
          195.22065745510812,
          216.74019786996732,
          235.2103686362223,
          250.56873380420762,
          262.6167099073452,
          270.9034432081257,
          274.9938640018967,
          275.37656860743607,
          277.12125888565487,
          284.3934479111539,
          295.32538943081005
         ]
        },
        {
         "mode": "lines",
         "name": "L=3.8625e-07 m",
         "type": "scatter",
         "x": [
          5,
          6.428571428571429,
          7.857142857142858,
          9.285714285714285,
          10.714285714285715,
          12.142857142857142,
          13.571428571428571,
          15,
          16.42857142857143,
          17.857142857142858,
          19.285714285714285,
          20.714285714285715,
          22.142857142857142,
          23.571428571428573,
          25
         ],
         "y": [
          86.18896855774665,
          130.92045460180157,
          170.72811423607595,
          206.2320954402892,
          237.86131296976478,
          265.64206335160577,
          289.60375302668365,
          309.3117574237314,
          324.5730080683896,
          334.36686946682914,
          338.1505892620719,
          336.5168859022591,
          337.0406305672393,
          346.1125547547318,
          360.77674322217274
         ]
        },
        {
         "mode": "lines",
         "name": "L=5e-07 m",
         "type": "scatter",
         "x": [
          5,
          6.428571428571429,
          7.857142857142858,
          9.285714285714285,
          10.714285714285715,
          12.142857142857142,
          13.571428571428571,
          15,
          16.42857142857143,
          17.857142857142858,
          19.285714285714285,
          20.714285714285715,
          22.142857142857142,
          23.571428571428573,
          25
         ],
         "y": [
          94.14417521666556,
          144.67152510147332,
          189.43607590018723,
          229.24623364071013,
          264.58183904595705,
          295.499548419289,
          321.9972931879693,
          343.4403765818303,
          359.63247611019585,
          369.4132948089427,
          372.0401216021817,
          368.29515705999313,
          367.3499693742636,
          376.9093883323474,
          393.24936784742056
         ]
        }
       ],
       "layout": {
        "template": {
         "data": {
          "bar": [
           {
            "error_x": {
             "color": "#2a3f5f"
            },
            "error_y": {
             "color": "#2a3f5f"
            },
            "marker": {
             "line": {
              "color": "#E5ECF6",
              "width": 0.5
             },
             "pattern": {
              "fillmode": "overlay",
              "size": 10,
              "solidity": 0.2
             }
            },
            "type": "bar"
           }
          ],
          "barpolar": [
           {
            "marker": {
             "line": {
              "color": "#E5ECF6",
              "width": 0.5
             },
             "pattern": {
              "fillmode": "overlay",
              "size": 10,
              "solidity": 0.2
             }
            },
            "type": "barpolar"
           }
          ],
          "carpet": [
           {
            "aaxis": {
             "endlinecolor": "#2a3f5f",
             "gridcolor": "white",
             "linecolor": "white",
             "minorgridcolor": "white",
             "startlinecolor": "#2a3f5f"
            },
            "baxis": {
             "endlinecolor": "#2a3f5f",
             "gridcolor": "white",
             "linecolor": "white",
             "minorgridcolor": "white",
             "startlinecolor": "#2a3f5f"
            },
            "type": "carpet"
           }
          ],
          "choropleth": [
           {
            "colorbar": {
             "outlinewidth": 0,
             "ticks": ""
            },
            "type": "choropleth"
           }
          ],
          "contour": [
           {
            "colorbar": {
             "outlinewidth": 0,
             "ticks": ""
            },
            "colorscale": [
             [
              0,
              "#0d0887"
             ],
             [
              0.1111111111111111,
              "#46039f"
             ],
             [
              0.2222222222222222,
              "#7201a8"
             ],
             [
              0.3333333333333333,
              "#9c179e"
             ],
             [
              0.4444444444444444,
              "#bd3786"
             ],
             [
              0.5555555555555556,
              "#d8576b"
             ],
             [
              0.6666666666666666,
              "#ed7953"
             ],
             [
              0.7777777777777778,
              "#fb9f3a"
             ],
             [
              0.8888888888888888,
              "#fdca26"
             ],
             [
              1,
              "#f0f921"
             ]
            ],
            "type": "contour"
           }
          ],
          "contourcarpet": [
           {
            "colorbar": {
             "outlinewidth": 0,
             "ticks": ""
            },
            "type": "contourcarpet"
           }
          ],
          "heatmap": [
           {
            "colorbar": {
             "outlinewidth": 0,
             "ticks": ""
            },
            "colorscale": [
             [
              0,
              "#0d0887"
             ],
             [
              0.1111111111111111,
              "#46039f"
             ],
             [
              0.2222222222222222,
              "#7201a8"
             ],
             [
              0.3333333333333333,
              "#9c179e"
             ],
             [
              0.4444444444444444,
              "#bd3786"
             ],
             [
              0.5555555555555556,
              "#d8576b"
             ],
             [
              0.6666666666666666,
              "#ed7953"
             ],
             [
              0.7777777777777778,
              "#fb9f3a"
             ],
             [
              0.8888888888888888,
              "#fdca26"
             ],
             [
              1,
              "#f0f921"
             ]
            ],
            "type": "heatmap"
           }
          ],
          "heatmapgl": [
           {
            "colorbar": {
             "outlinewidth": 0,
             "ticks": ""
            },
            "colorscale": [
             [
              0,
              "#0d0887"
             ],
             [
              0.1111111111111111,
              "#46039f"
             ],
             [
              0.2222222222222222,
              "#7201a8"
             ],
             [
              0.3333333333333333,
              "#9c179e"
             ],
             [
              0.4444444444444444,
              "#bd3786"
             ],
             [
              0.5555555555555556,
              "#d8576b"
             ],
             [
              0.6666666666666666,
              "#ed7953"
             ],
             [
              0.7777777777777778,
              "#fb9f3a"
             ],
             [
              0.8888888888888888,
              "#fdca26"
             ],
             [
              1,
              "#f0f921"
             ]
            ],
            "type": "heatmapgl"
           }
          ],
          "histogram": [
           {
            "marker": {
             "pattern": {
              "fillmode": "overlay",
              "size": 10,
              "solidity": 0.2
             }
            },
            "type": "histogram"
           }
          ],
          "histogram2d": [
           {
            "colorbar": {
             "outlinewidth": 0,
             "ticks": ""
            },
            "colorscale": [
             [
              0,
              "#0d0887"
             ],
             [
              0.1111111111111111,
              "#46039f"
             ],
             [
              0.2222222222222222,
              "#7201a8"
             ],
             [
              0.3333333333333333,
              "#9c179e"
             ],
             [
              0.4444444444444444,
              "#bd3786"
             ],
             [
              0.5555555555555556,
              "#d8576b"
             ],
             [
              0.6666666666666666,
              "#ed7953"
             ],
             [
              0.7777777777777778,
              "#fb9f3a"
             ],
             [
              0.8888888888888888,
              "#fdca26"
             ],
             [
              1,
              "#f0f921"
             ]
            ],
            "type": "histogram2d"
           }
          ],
          "histogram2dcontour": [
           {
            "colorbar": {
             "outlinewidth": 0,
             "ticks": ""
            },
            "colorscale": [
             [
              0,
              "#0d0887"
             ],
             [
              0.1111111111111111,
              "#46039f"
             ],
             [
              0.2222222222222222,
              "#7201a8"
             ],
             [
              0.3333333333333333,
              "#9c179e"
             ],
             [
              0.4444444444444444,
              "#bd3786"
             ],
             [
              0.5555555555555556,
              "#d8576b"
             ],
             [
              0.6666666666666666,
              "#ed7953"
             ],
             [
              0.7777777777777778,
              "#fb9f3a"
             ],
             [
              0.8888888888888888,
              "#fdca26"
             ],
             [
              1,
              "#f0f921"
             ]
            ],
            "type": "histogram2dcontour"
           }
          ],
          "mesh3d": [
           {
            "colorbar": {
             "outlinewidth": 0,
             "ticks": ""
            },
            "type": "mesh3d"
           }
          ],
          "parcoords": [
           {
            "line": {
             "colorbar": {
              "outlinewidth": 0,
              "ticks": ""
             }
            },
            "type": "parcoords"
           }
          ],
          "pie": [
           {
            "automargin": true,
            "type": "pie"
           }
          ],
          "scatter": [
           {
            "fillpattern": {
             "fillmode": "overlay",
             "size": 10,
             "solidity": 0.2
            },
            "type": "scatter"
           }
          ],
          "scatter3d": [
           {
            "line": {
             "colorbar": {
              "outlinewidth": 0,
              "ticks": ""
             }
            },
            "marker": {
             "colorbar": {
              "outlinewidth": 0,
              "ticks": ""
             }
            },
            "type": "scatter3d"
           }
          ],
          "scattercarpet": [
           {
            "marker": {
             "colorbar": {
              "outlinewidth": 0,
              "ticks": ""
             }
            },
            "type": "scattercarpet"
           }
          ],
          "scattergeo": [
           {
            "marker": {
             "colorbar": {
              "outlinewidth": 0,
              "ticks": ""
             }
            },
            "type": "scattergeo"
           }
          ],
          "scattergl": [
           {
            "marker": {
             "colorbar": {
              "outlinewidth": 0,
              "ticks": ""
             }
            },
            "type": "scattergl"
           }
          ],
          "scattermapbox": [
           {
            "marker": {
             "colorbar": {
              "outlinewidth": 0,
              "ticks": ""
             }
            },
            "type": "scattermapbox"
           }
          ],
          "scatterpolar": [
           {
            "marker": {
             "colorbar": {
              "outlinewidth": 0,
              "ticks": ""
             }
            },
            "type": "scatterpolar"
           }
          ],
          "scatterpolargl": [
           {
            "marker": {
             "colorbar": {
              "outlinewidth": 0,
              "ticks": ""
             }
            },
            "type": "scatterpolargl"
           }
          ],
          "scatterternary": [
           {
            "marker": {
             "colorbar": {
              "outlinewidth": 0,
              "ticks": ""
             }
            },
            "type": "scatterternary"
           }
          ],
          "surface": [
           {
            "colorbar": {
             "outlinewidth": 0,
             "ticks": ""
            },
            "colorscale": [
             [
              0,
              "#0d0887"
             ],
             [
              0.1111111111111111,
              "#46039f"
             ],
             [
              0.2222222222222222,
              "#7201a8"
             ],
             [
              0.3333333333333333,
              "#9c179e"
             ],
             [
              0.4444444444444444,
              "#bd3786"
             ],
             [
              0.5555555555555556,
              "#d8576b"
             ],
             [
              0.6666666666666666,
              "#ed7953"
             ],
             [
              0.7777777777777778,
              "#fb9f3a"
             ],
             [
              0.8888888888888888,
              "#fdca26"
             ],
             [
              1,
              "#f0f921"
             ]
            ],
            "type": "surface"
           }
          ],
          "table": [
           {
            "cells": {
             "fill": {
              "color": "#EBF0F8"
             },
             "line": {
              "color": "white"
             }
            },
            "header": {
             "fill": {
              "color": "#C8D4E3"
             },
             "line": {
              "color": "white"
             }
            },
            "type": "table"
           }
          ]
         },
         "layout": {
          "annotationdefaults": {
           "arrowcolor": "#2a3f5f",
           "arrowhead": 0,
           "arrowwidth": 1
          },
          "autotypenumbers": "strict",
          "coloraxis": {
           "colorbar": {
            "outlinewidth": 0,
            "ticks": ""
           }
          },
          "colorscale": {
           "diverging": [
            [
             0,
             "#8e0152"
            ],
            [
             0.1,
             "#c51b7d"
            ],
            [
             0.2,
             "#de77ae"
            ],
            [
             0.3,
             "#f1b6da"
            ],
            [
             0.4,
             "#fde0ef"
            ],
            [
             0.5,
             "#f7f7f7"
            ],
            [
             0.6,
             "#e6f5d0"
            ],
            [
             0.7,
             "#b8e186"
            ],
            [
             0.8,
             "#7fbc41"
            ],
            [
             0.9,
             "#4d9221"
            ],
            [
             1,
             "#276419"
            ]
           ],
           "sequential": [
            [
             0,
             "#0d0887"
            ],
            [
             0.1111111111111111,
             "#46039f"
            ],
            [
             0.2222222222222222,
             "#7201a8"
            ],
            [
             0.3333333333333333,
             "#9c179e"
            ],
            [
             0.4444444444444444,
             "#bd3786"
            ],
            [
             0.5555555555555556,
             "#d8576b"
            ],
            [
             0.6666666666666666,
             "#ed7953"
            ],
            [
             0.7777777777777778,
             "#fb9f3a"
            ],
            [
             0.8888888888888888,
             "#fdca26"
            ],
            [
             1,
             "#f0f921"
            ]
           ],
           "sequentialminus": [
            [
             0,
             "#0d0887"
            ],
            [
             0.1111111111111111,
             "#46039f"
            ],
            [
             0.2222222222222222,
             "#7201a8"
            ],
            [
             0.3333333333333333,
             "#9c179e"
            ],
            [
             0.4444444444444444,
             "#bd3786"
            ],
            [
             0.5555555555555556,
             "#d8576b"
            ],
            [
             0.6666666666666666,
             "#ed7953"
            ],
            [
             0.7777777777777778,
             "#fb9f3a"
            ],
            [
             0.8888888888888888,
             "#fdca26"
            ],
            [
             1,
             "#f0f921"
            ]
           ]
          },
          "colorway": [
           "#636efa",
           "#EF553B",
           "#00cc96",
           "#ab63fa",
           "#FFA15A",
           "#19d3f3",
           "#FF6692",
           "#B6E880",
           "#FF97FF",
           "#FECB52"
          ],
          "font": {
           "color": "#2a3f5f"
          },
          "geo": {
           "bgcolor": "white",
           "lakecolor": "white",
           "landcolor": "#E5ECF6",
           "showlakes": true,
           "showland": true,
           "subunitcolor": "white"
          },
          "hoverlabel": {
           "align": "left"
          },
          "hovermode": "closest",
          "mapbox": {
           "style": "light"
          },
          "paper_bgcolor": "white",
          "plot_bgcolor": "#E5ECF6",
          "polar": {
           "angularaxis": {
            "gridcolor": "white",
            "linecolor": "white",
            "ticks": ""
           },
           "bgcolor": "#E5ECF6",
           "radialaxis": {
            "gridcolor": "white",
            "linecolor": "white",
            "ticks": ""
           }
          },
          "scene": {
           "xaxis": {
            "backgroundcolor": "#E5ECF6",
            "gridcolor": "white",
            "gridwidth": 2,
            "linecolor": "white",
            "showbackground": true,
            "ticks": "",
            "zerolinecolor": "white"
           },
           "yaxis": {
            "backgroundcolor": "#E5ECF6",
            "gridcolor": "white",
            "gridwidth": 2,
            "linecolor": "white",
            "showbackground": true,
            "ticks": "",
            "zerolinecolor": "white"
           },
           "zaxis": {
            "backgroundcolor": "#E5ECF6",
            "gridcolor": "white",
            "gridwidth": 2,
            "linecolor": "white",
            "showbackground": true,
            "ticks": "",
            "zerolinecolor": "white"
           }
          },
          "shapedefaults": {
           "line": {
            "color": "#2a3f5f"
           }
          },
          "ternary": {
           "aaxis": {
            "gridcolor": "white",
            "linecolor": "white",
            "ticks": ""
           },
           "baxis": {
            "gridcolor": "white",
            "linecolor": "white",
            "ticks": ""
           },
           "bgcolor": "#E5ECF6",
           "caxis": {
            "gridcolor": "white",
            "linecolor": "white",
            "ticks": ""
           }
          },
          "title": {
           "x": 0.05
          },
          "xaxis": {
           "automargin": true,
           "gridcolor": "white",
           "linecolor": "white",
           "ticks": "",
           "title": {
            "standoff": 15
           },
           "zerolinecolor": "white",
           "zerolinewidth": 2
          },
          "yaxis": {
           "automargin": true,
           "gridcolor": "white",
           "linecolor": "white",
           "ticks": "",
           "title": {
            "standoff": 15
           },
           "zerolinecolor": "white",
           "zerolinewidth": 2
          }
         }
        },
        "title": {
         "text": "Parametric Plot of gm_gds vs gm_id for different lengths"
        },
        "xaxis": {
         "title": {
          "text": "gm_id"
         }
        },
        "yaxis": {
         "title": {
          "text": "gm_gds"
         }
        }
       }
      }
     },
     "metadata": {},
     "output_type": "display_data"
    }
   ],
   "source": [
    "outvar = \"gm_gds\"\n",
    "gm_id_sweep = np.linspace(5,25,15)\n",
    "length_sweep = np.linspace(L_MIN, 500e-09, 5)\n",
    "# length_sweep = np.linspace(L_MIN, L_MAX, 15)\n",
    "# length_sweep = np.linspace(500e-09, L_MAX, 15)\n",
    "\n",
    "y = np.array([look_up(nmos, outvar, gm_id=gm_id_sweep, length=length) for length in length_sweep])\n",
    "fig = go.Figure()\n",
    "\n",
    "for idx, length in enumerate(length_sweep):\n",
    "    fig.add_trace(go.Scatter(x=gm_id_sweep, y=y[idx], mode='lines', name=f'L={length} m'))\n",
    "\n",
    "fig.update_layout(title=f'Parametric Plot of {outvar} vs gm_id for different lengths', xaxis_title='gm_id', yaxis_title=f'{outvar}')\n",
    "fig.show()\n"
   ]
  },
  {
   "cell_type": "markdown",
   "metadata": {},
   "source": [
    "# Design Process\n",
    "\n",
    "Use the above plots or key important params and decide a value of gm_id and length.\n",
    "To get width, fix your bias current value. Define a structure and give name to your transistor. Give something\n",
    "which is logical. Instead of M1, M2 use GM_PAIR, NMOS_LOAD, NMOS_CASC et cetera."
   ]
  },
  {
   "cell_type": "code",
   "execution_count": 5,
   "metadata": {},
   "outputs": [],
   "source": [
    "five_t_ota = {\n",
    "                \"gm_pair\":\n",
    "                {\n",
    "                    \"type\": \"nmos_vth\",\n",
    "                    \"length\": L_MIN,\n",
    "                    \"gm_id\" : 5,\n",
    "                    \"id\": 1e-6,\n",
    "                    \"w\": W_MIN,\n",
    "                    \"description\": \"Just in case you want to be more detailed.\"\n",
    "                },\n",
    "\n",
    "                \"diode_pair\":\n",
    "                {\n",
    "                    \"type\": \"pmos_vth\",\n",
    "                    \"length\": L_MIN,\n",
    "                    \"gm_id\" : 15,\n",
    "                    \"id\": 10e-6,\n",
    "                    \"w\": W_MIN,\n",
    "                    \"description\": \"Just in case you want to be more detailed.\"\n",
    "                },\n",
    "\n",
    "            }\n"
   ]
  },
  {
   "cell_type": "code",
   "execution_count": 6,
   "metadata": {},
   "outputs": [
    {
     "name": "stdout",
     "output_type": "stream",
     "text": [
      "A gm_id of 5 cannot be achieved for the length:\n",
      "                4.5e-08 and id: 1e-06. Increasing the length.\n",
      "A gm_id of 5 cannot be achieved for the length:\n",
      "                5.5e-08 and id: 1e-06. Increasing the length.\n",
      "A gm_id of 5 cannot be achieved for the length:\n",
      "                6.5e-08 and id: 1e-06. Increasing the length.\n",
      "A gm_id of 5 cannot be achieved for the length:\n",
      "                7.5e-08 and id: 1e-06. Increasing the length.\n",
      "A gm_id of 5 cannot be achieved for the length:\n",
      "                8.5e-08 and id: 1e-06. Increasing the length.\n",
      "A gm_id of 5 cannot be achieved for the length:\n",
      "                9.499999999999999e-08 and id: 1e-06. Increasing the length.\n",
      "A gm_id of 5 cannot be achieved for the length:\n",
      "                1.0499999999999999e-07 and id: 1e-06. Increasing the length.\n",
      "A gm_id of 5 cannot be achieved for the length:\n",
      "                1.1499999999999998e-07 and id: 1e-06. Increasing the length.\n",
      "A gm_id of 5 cannot be achieved for the length:\n",
      "                1.25e-07 and id: 1e-06. Increasing the length.\n",
      "A gm_id of 5 cannot be achieved for the length:\n",
      "                1.35e-07 and id: 1e-06. Increasing the length.\n",
      "A gm_id of 5 cannot be achieved for the length:\n",
      "                1.4500000000000001e-07 and id: 1e-06. Increasing the length.\n",
      "A gm_id of 5 cannot be achieved for the length:\n",
      "                1.5500000000000002e-07 and id: 1e-06. Increasing the length.\n",
      "A gm_id of 5 cannot be achieved for the length:\n",
      "                1.6500000000000003e-07 and id: 1e-06. Increasing the length.\n",
      "A gm_id of 5 cannot be achieved for the length:\n",
      "                1.7500000000000005e-07 and id: 1e-06. Increasing the length.\n",
      "A gm_id of 5 cannot be achieved for the length:\n",
      "                1.8500000000000006e-07 and id: 1e-06. Increasing the length.\n",
      "A gm_id of 5 cannot be achieved for the length:\n",
      "                1.9500000000000007e-07 and id: 1e-06. Increasing the length.\n",
      "A gm_id of 5 cannot be achieved for the length:\n",
      "                2.0500000000000008e-07 and id: 1e-06. Increasing the length.\n",
      "A gm_id of 5 cannot be achieved for the length:\n",
      "                2.1500000000000009e-07 and id: 1e-06. Increasing the length.\n",
      "A gm_id of 5 cannot be achieved for the length:\n",
      "                2.250000000000001e-07 and id: 1e-06. Increasing the length.\n",
      "A gm_id of 5 cannot be achieved for the length:\n",
      "                2.350000000000001e-07 and id: 1e-06. Increasing the length.\n",
      "A gm_id of 5 cannot be achieved for the length:\n",
      "                2.450000000000001e-07 and id: 1e-06. Increasing the length.\n",
      "A gm_id of 5 cannot be achieved for the length:\n",
      "                2.550000000000001e-07 and id: 1e-06. Increasing the length.\n",
      "A gm_id of 5 cannot be achieved for the length:\n",
      "                2.650000000000001e-07 and id: 1e-06. Increasing the length.\n",
      "A gm_id of 5 cannot be achieved for the length:\n",
      "                2.750000000000001e-07 and id: 1e-06. Increasing the length.\n",
      "A gm_id of 5 cannot be achieved for the length:\n",
      "                2.8500000000000013e-07 and id: 1e-06. Increasing the length.\n",
      "A gm_id of 5 cannot be achieved for the length:\n",
      "                2.9500000000000014e-07 and id: 1e-06. Increasing the length.\n",
      "A gm_id of 5 cannot be achieved for the length:\n",
      "                3.0500000000000015e-07 and id: 1e-06. Increasing the length.\n",
      "A gm_id of 5 cannot be achieved for the length:\n",
      "                3.1500000000000016e-07 and id: 1e-06. Increasing the length.\n",
      "A gm_id of 5 cannot be achieved for the length:\n",
      "                3.2500000000000017e-07 and id: 1e-06. Increasing the length.\n",
      "A gm_id of 5 cannot be achieved for the length:\n",
      "                3.350000000000002e-07 and id: 1e-06. Increasing the length.\n",
      "A gm_id of 5 cannot be achieved for the length:\n",
      "                3.450000000000002e-07 and id: 1e-06. Increasing the length.\n",
      "A gm_id of 5 cannot be achieved for the length:\n",
      "                3.550000000000002e-07 and id: 1e-06. Increasing the length.\n",
      "A gm_id of 5 cannot be achieved for the length:\n",
      "                3.650000000000002e-07 and id: 1e-06. Increasing the length.\n",
      "A gm_id of 5 cannot be achieved for the length:\n",
      "                3.750000000000002e-07 and id: 1e-06. Increasing the length.\n",
      "A gm_id of 5 cannot be achieved for the length:\n",
      "                3.8500000000000023e-07 and id: 1e-06. Increasing the length.\n",
      "A gm_id of 5 cannot be achieved for the length:\n",
      "                3.9500000000000024e-07 and id: 1e-06. Increasing the length.\n",
      "A gm_id of 5 cannot be achieved for the length:\n",
      "                4.0500000000000025e-07 and id: 1e-06. Increasing the length.\n",
      "A gm_id of 5 cannot be achieved for the length:\n",
      "                4.1500000000000026e-07 and id: 1e-06. Increasing the length.\n",
      "A gm_id of 5 cannot be achieved for the length:\n",
      "                4.2500000000000027e-07 and id: 1e-06. Increasing the length.\n",
      "A gm_id of 5 cannot be achieved for the length:\n",
      "                4.350000000000003e-07 and id: 1e-06. Increasing the length.\n",
      "A gm_id of 5 cannot be achieved for the length:\n",
      "                4.450000000000003e-07 and id: 1e-06. Increasing the length.\n",
      "A gm_id of 5 cannot be achieved for the length:\n",
      "                4.550000000000003e-07 and id: 1e-06. Increasing the length.\n",
      "A gm_id of 5 cannot be achieved for the length:\n",
      "                4.650000000000003e-07 and id: 1e-06. Increasing the length.\n",
      "A gm_id of 5 cannot be achieved for the length:\n",
      "                4.750000000000003e-07 and id: 1e-06. Increasing the length.\n",
      "A gm_id of 5 cannot be achieved for the length:\n",
      "                4.850000000000003e-07 and id: 1e-06. Increasing the length.\n",
      "A gm_id of 5 cannot be achieved for the length:\n",
      "                4.950000000000003e-07 and id: 1e-06. Increasing the length.\n",
      "A gm_id of 5 cannot be achieved for the length:\n",
      "                5.050000000000004e-07 and id: 1e-06. Increasing the length.\n",
      "A gm_id of 5 cannot be achieved for the length:\n",
      "                5.150000000000004e-07 and id: 1e-06. Increasing the length.\n",
      "A gm_id of 5 cannot be achieved for the length:\n",
      "                5.250000000000004e-07 and id: 1e-06. Increasing the length.\n",
      "A gm_id of 5 cannot be achieved for the length:\n",
      "                5.350000000000004e-07 and id: 1e-06. Increasing the length.\n",
      "A gm_id of 5 cannot be achieved for the length:\n",
      "                5.450000000000004e-07 and id: 1e-06. Increasing the length.\n",
      "A gm_id of 5 cannot be achieved for the length:\n",
      "                5.550000000000004e-07 and id: 1e-06. Increasing the length.\n",
      "A gm_id of 5 cannot be achieved for the length:\n",
      "                5.650000000000004e-07 and id: 1e-06. Increasing the length.\n",
      "A gm_id of 5 cannot be achieved for the length:\n",
      "                5.750000000000004e-07 and id: 1e-06. Increasing the length.\n",
      "A gm_id of 5 cannot be achieved for the length:\n",
      "                5.850000000000004e-07 and id: 1e-06. Increasing the length.\n",
      "A gm_id of 5 cannot be achieved for the length:\n",
      "                5.950000000000004e-07 and id: 1e-06. Increasing the length.\n",
      "A gm_id of 5 cannot be achieved for the length:\n",
      "                6.050000000000005e-07 and id: 1e-06. Increasing the length.\n",
      "A gm_id of 5 cannot be achieved for the length:\n",
      "                6.150000000000005e-07 and id: 1e-06. Increasing the length.\n",
      "A gm_id of 5 cannot be achieved for the length:\n",
      "                6.250000000000005e-07 and id: 1e-06. Increasing the length.\n",
      "A gm_id of 5 cannot be achieved for the length:\n",
      "                6.350000000000005e-07 and id: 1e-06. Increasing the length.\n",
      "A gm_id of 5 cannot be achieved for the length:\n",
      "                6.450000000000005e-07 and id: 1e-06. Increasing the length.\n",
      "A gm_id of 5 cannot be achieved for the length:\n",
      "                6.550000000000005e-07 and id: 1e-06. Increasing the length.\n",
      "A gm_id of 5 cannot be achieved for the length:\n",
      "                6.650000000000005e-07 and id: 1e-06. Increasing the length.\n",
      "A gm_id of 5 cannot be achieved for the length:\n",
      "                6.750000000000005e-07 and id: 1e-06. Increasing the length.\n",
      "A gm_id of 5 cannot be achieved for the length:\n",
      "                6.850000000000005e-07 and id: 1e-06. Increasing the length.\n",
      "A gm_id of 5 cannot be achieved for the length:\n",
      "                6.950000000000005e-07 and id: 1e-06. Increasing the length.\n",
      "A gm_id of 5 cannot be achieved for the length:\n",
      "                7.050000000000006e-07 and id: 1e-06. Increasing the length.\n",
      "A gm_id of 5 cannot be achieved for the length:\n",
      "                7.150000000000006e-07 and id: 1e-06. Increasing the length.\n",
      "A gm_id of 5 cannot be achieved for the length:\n",
      "                7.250000000000006e-07 and id: 1e-06. Increasing the length.\n",
      "A gm_id of 5 cannot be achieved for the length:\n",
      "                7.350000000000006e-07 and id: 1e-06. Increasing the length.\n",
      "A gm_id of 5 cannot be achieved for the length:\n",
      "                7.450000000000006e-07 and id: 1e-06. Increasing the length.\n",
      "A gm_id of 5 cannot be achieved for the length:\n",
      "                7.550000000000006e-07 and id: 1e-06. Increasing the length.\n",
      "A gm_id of 5 cannot be achieved for the length:\n",
      "                7.650000000000006e-07 and id: 1e-06. Increasing the length.\n",
      "A gm_id of 5 cannot be achieved for the length:\n",
      "                7.750000000000006e-07 and id: 1e-06. Increasing the length.\n",
      "A gm_id of 5 cannot be achieved for the length:\n",
      "                7.850000000000006e-07 and id: 1e-06. Increasing the length.\n",
      "A gm_id of 5 cannot be achieved for the length:\n",
      "                7.950000000000006e-07 and id: 1e-06. Increasing the length.\n",
      "A gm_id of 5 cannot be achieved for the length:\n",
      "                8.050000000000007e-07 and id: 1e-06. Increasing the length.\n",
      "A gm_id of 5 cannot be achieved for the length:\n",
      "                8.150000000000007e-07 and id: 1e-06. Increasing the length.\n",
      "A gm_id of 5 cannot be achieved for the length:\n",
      "                8.250000000000007e-07 and id: 1e-06. Increasing the length.\n",
      "A gm_id of 5 cannot be achieved for the length:\n",
      "                8.350000000000007e-07 and id: 1e-06. Increasing the length.\n",
      "A gm_id of 5 cannot be achieved for the length:\n",
      "                8.450000000000007e-07 and id: 1e-06. Increasing the length.\n",
      "A gm_id of 5 cannot be achieved for the length:\n",
      "                8.550000000000007e-07 and id: 1e-06. Increasing the length.\n",
      "A gm_id of 5 cannot be achieved for the length:\n",
      "                8.650000000000007e-07 and id: 1e-06. Increasing the length.\n",
      "A gm_id of 5 cannot be achieved for the length:\n",
      "                8.750000000000007e-07 and id: 1e-06. Increasing the length.\n",
      "A gm_id of 5 cannot be achieved for the length:\n",
      "                8.850000000000007e-07 and id: 1e-06. Increasing the length.\n",
      "A gm_id of 5 cannot be achieved for the length:\n",
      "                8.950000000000007e-07 and id: 1e-06. Increasing the length.\n",
      "A gm_id of 5 cannot be achieved for the length:\n",
      "                9.050000000000008e-07 and id: 1e-06. Increasing the length.\n",
      "A gm_id of 5 cannot be achieved for the length:\n",
      "                9.150000000000008e-07 and id: 1e-06. Increasing the length.\n",
      "A gm_id of 5 cannot be achieved for the length:\n",
      "                9.250000000000008e-07 and id: 1e-06. Increasing the length.\n",
      "A gm_id of 5 cannot be achieved for the length:\n",
      "                9.350000000000008e-07 and id: 1e-06. Increasing the length.\n",
      "A gm_id of 5 cannot be achieved for the length:\n",
      "                9.450000000000008e-07 and id: 1e-06. Increasing the length.\n",
      "A gm_id of 5 cannot be achieved for the length:\n",
      "                9.550000000000008e-07 and id: 1e-06. Increasing the length.\n",
      "A gm_id of 5 cannot be achieved for the length:\n",
      "                9.650000000000007e-07 and id: 1e-06. Increasing the length.\n",
      "A gm_id of 5 cannot be achieved for the length:\n",
      "                9.750000000000006e-07 and id: 1e-06. Increasing the length.\n",
      "A gm_id of 5 cannot be achieved for the length:\n",
      "                9.850000000000005e-07 and id: 1e-06. Increasing the length.\n",
      "A gm_id of 5 cannot be achieved for the length:\n",
      "                9.950000000000004e-07 and id: 1e-06. Increasing the length.\n",
      "A gm_id of 5 cannot be achieved for the length:\n",
      "                1.0050000000000003e-06 and id: 1e-06. Increasing the length.\n",
      "A gm_id of 5 cannot be achieved for the length:\n",
      "                1.0150000000000002e-06 and id: 1e-06. Increasing the length.\n",
      "A gm_id of 5 cannot be achieved for the length:\n",
      "                1.0250000000000001e-06 and id: 1e-06. Increasing the length.\n",
      "A gm_id of 5 cannot be achieved for the length:\n",
      "                1.035e-06 and id: 1e-06. Increasing the length.\n",
      "A gm_id of 5 cannot be achieved for the length:\n",
      "                1.045e-06 and id: 1e-06. Increasing the length.\n",
      "A gm_id of 5 cannot be achieved for the length:\n",
      "                1.0549999999999999e-06 and id: 1e-06. Increasing the length.\n",
      "A gm_id of 5 cannot be achieved for the length:\n",
      "                1.0649999999999998e-06 and id: 1e-06. Increasing the length.\n",
      "A gm_id of 5 cannot be achieved for the length:\n",
      "                1.0749999999999997e-06 and id: 1e-06. Increasing the length.\n",
      "A gm_id of 5 cannot be achieved for the length:\n",
      "                1.0849999999999996e-06 and id: 1e-06. Increasing the length.\n",
      "A gm_id of 5 cannot be achieved for the length:\n",
      "                1.0949999999999995e-06 and id: 1e-06. Increasing the length.\n",
      "A gm_id of 5 cannot be achieved for the length:\n",
      "                1.1049999999999994e-06 and id: 1e-06. Increasing the length.\n",
      "A gm_id of 5 cannot be achieved for the length:\n",
      "                1.1149999999999993e-06 and id: 1e-06. Increasing the length.\n",
      "A gm_id of 5 cannot be achieved for the length:\n",
      "                1.1249999999999992e-06 and id: 1e-06. Increasing the length.\n",
      "A gm_id of 5 cannot be achieved for the length:\n",
      "                1.134999999999999e-06 and id: 1e-06. Increasing the length.\n",
      "A gm_id of 5 cannot be achieved for the length:\n",
      "                1.144999999999999e-06 and id: 1e-06. Increasing the length.\n",
      "A gm_id of 5 cannot be achieved for the length:\n",
      "                1.154999999999999e-06 and id: 1e-06. Increasing the length.\n",
      "A gm_id of 5 cannot be achieved for the length:\n",
      "                1.1649999999999988e-06 and id: 1e-06. Increasing the length.\n",
      "A gm_id of 5 cannot be achieved for the length:\n",
      "                1.1749999999999987e-06 and id: 1e-06. Increasing the length.\n",
      "A gm_id of 5 cannot be achieved for the length:\n",
      "                1.1849999999999986e-06 and id: 1e-06. Increasing the length.\n",
      "A gm_id of 5 cannot be achieved for the length:\n",
      "                1.1949999999999985e-06 and id: 1e-06. Increasing the length.\n",
      "A gm_id of 5 cannot be achieved for the length:\n",
      "                1.2049999999999984e-06 and id: 1e-06. Increasing the length.\n",
      "A gm_id of 5 cannot be achieved for the length:\n",
      "                1.2149999999999983e-06 and id: 1e-06. Increasing the length.\n",
      "A gm_id of 5 cannot be achieved for the length:\n",
      "                1.2249999999999982e-06 and id: 1e-06. Increasing the length.\n",
      "A gm_id of 5 cannot be achieved for the length:\n",
      "                1.2349999999999981e-06 and id: 1e-06. Increasing the length.\n",
      "A gm_id of 5 cannot be achieved for the length:\n",
      "                1.244999999999998e-06 and id: 1e-06. Increasing the length.\n",
      "A gm_id of 5 cannot be achieved for the length:\n",
      "                1.254999999999998e-06 and id: 1e-06. Increasing the length.\n",
      "A gm_id of 5 cannot be achieved for the length:\n",
      "                1.2649999999999978e-06 and id: 1e-06. Increasing the length.\n",
      "A gm_id of 5 cannot be achieved for the length:\n",
      "                1.2749999999999977e-06 and id: 1e-06. Increasing the length.\n",
      "A gm_id of 5 cannot be achieved for the length:\n",
      "                1.2849999999999976e-06 and id: 1e-06. Increasing the length.\n",
      "A gm_id of 5 cannot be achieved for the length:\n",
      "                1.2949999999999976e-06 and id: 1e-06. Increasing the length.\n",
      "A gm_id of 5 cannot be achieved for the length:\n",
      "                1.3049999999999975e-06 and id: 1e-06. Increasing the length.\n",
      "A gm_id of 5 cannot be achieved for the length:\n",
      "                1.3149999999999974e-06 and id: 1e-06. Increasing the length.\n",
      "A gm_id of 5 cannot be achieved for the length:\n",
      "                1.3249999999999973e-06 and id: 1e-06. Increasing the length.\n",
      "A gm_id of 5 cannot be achieved for the length:\n",
      "                1.3349999999999972e-06 and id: 1e-06. Increasing the length.\n",
      "A gm_id of 5 cannot be achieved for the length:\n",
      "                1.344999999999997e-06 and id: 1e-06. Increasing the length.\n",
      "A gm_id of 5 cannot be achieved for the length:\n",
      "                1.354999999999997e-06 and id: 1e-06. Increasing the length.\n",
      "A gm_id of 5 cannot be achieved for the length:\n",
      "                1.3649999999999969e-06 and id: 1e-06. Increasing the length.\n",
      "A gm_id of 5 cannot be achieved for the length:\n",
      "                1.3749999999999968e-06 and id: 1e-06. Increasing the length.\n",
      "A gm_id of 5 cannot be achieved for the length:\n",
      "                1.3849999999999967e-06 and id: 1e-06. Increasing the length.\n",
      "A gm_id of 5 cannot be achieved for the length:\n",
      "                1.3949999999999966e-06 and id: 1e-06. Increasing the length.\n",
      "A gm_id of 5 cannot be achieved for the length:\n",
      "                1.4049999999999965e-06 and id: 1e-06. Increasing the length.\n",
      "A gm_id of 5 cannot be achieved for the length:\n",
      "                1.4149999999999964e-06 and id: 1e-06. Increasing the length.\n",
      "A gm_id of 5 cannot be achieved for the length:\n",
      "                1.4249999999999963e-06 and id: 1e-06. Increasing the length.\n",
      "A gm_id of 5 cannot be achieved for the length:\n",
      "                1.4349999999999962e-06 and id: 1e-06. Increasing the length.\n",
      "A gm_id of 5 cannot be achieved for the length:\n",
      "                1.4449999999999961e-06 and id: 1e-06. Increasing the length.\n",
      "A gm_id of 5 cannot be achieved for the length:\n",
      "                1.454999999999996e-06 and id: 1e-06. Increasing the length.\n",
      "A gm_id of 5 cannot be achieved for the length:\n",
      "                1.464999999999996e-06 and id: 1e-06. Increasing the length.\n",
      "A gm_id of 5 cannot be achieved for the length:\n",
      "                1.4749999999999958e-06 and id: 1e-06. Increasing the length.\n",
      "A gm_id of 5 cannot be achieved for the length:\n",
      "                1.4849999999999957e-06 and id: 1e-06. Increasing the length.\n",
      "A gm_id of 5 cannot be achieved for the length:\n",
      "                1.4949999999999956e-06 and id: 1e-06. Increasing the length.\n",
      "A gm_id of 5 cannot be achieved for the length:\n",
      "                1.5049999999999955e-06 and id: 1e-06. Increasing the length.\n",
      "A gm_id of 5 cannot be achieved for the length:\n",
      "                1.5149999999999954e-06 and id: 1e-06. Increasing the length.\n",
      "A gm_id of 5 cannot be achieved for the length:\n",
      "                1.5249999999999954e-06 and id: 1e-06. Increasing the length.\n",
      "A gm_id of 5 cannot be achieved for the length:\n",
      "                1.5349999999999953e-06 and id: 1e-06. Increasing the length.\n",
      "A gm_id of 5 cannot be achieved for the length:\n",
      "                1.5449999999999952e-06 and id: 1e-06. Increasing the length.\n",
      "A gm_id of 5 cannot be achieved for the length:\n",
      "                1.554999999999995e-06 and id: 1e-06. Increasing the length.\n",
      "A gm_id of 5 cannot be achieved for the length:\n",
      "                1.564999999999995e-06 and id: 1e-06. Increasing the length.\n",
      "A gm_id of 5 cannot be achieved for the length:\n",
      "                1.5749999999999949e-06 and id: 1e-06. Increasing the length.\n",
      "A gm_id of 5 cannot be achieved for the length:\n",
      "                1.5849999999999948e-06 and id: 1e-06. Increasing the length.\n",
      "A gm_id of 5 cannot be achieved for the length:\n",
      "                1.5949999999999947e-06 and id: 1e-06. Increasing the length.\n",
      "A gm_id of 5 cannot be achieved for the length:\n",
      "                1.6049999999999946e-06 and id: 1e-06. Increasing the length.\n",
      "A gm_id of 5 cannot be achieved for the length:\n",
      "                1.6149999999999945e-06 and id: 1e-06. Increasing the length.\n",
      "A gm_id of 5 cannot be achieved for the length:\n",
      "                1.6249999999999944e-06 and id: 1e-06. Increasing the length.\n",
      "A gm_id of 5 cannot be achieved for the length:\n",
      "                1.6349999999999943e-06 and id: 1e-06. Increasing the length.\n",
      "A gm_id of 5 cannot be achieved for the length:\n",
      "                1.6449999999999942e-06 and id: 1e-06. Increasing the length.\n",
      "A gm_id of 5 cannot be achieved for the length:\n",
      "                1.6549999999999941e-06 and id: 1e-06. Increasing the length.\n",
      "A gm_id of 5 cannot be achieved for the length:\n",
      "                1.664999999999994e-06 and id: 1e-06. Increasing the length.\n",
      "A gm_id of 5 cannot be achieved for the length:\n",
      "                1.674999999999994e-06 and id: 1e-06. Increasing the length.\n",
      "A gm_id of 5 cannot be achieved for the length:\n",
      "                1.6849999999999938e-06 and id: 1e-06. Increasing the length.\n",
      "A gm_id of 5 cannot be achieved for the length:\n",
      "                1.6949999999999937e-06 and id: 1e-06. Increasing the length.\n",
      "A gm_id of 5 cannot be achieved for the length:\n",
      "                1.7049999999999936e-06 and id: 1e-06. Increasing the length.\n",
      "A gm_id of 5 cannot be achieved for the length:\n",
      "                1.7149999999999935e-06 and id: 1e-06. Increasing the length.\n",
      "A gm_id of 5 cannot be achieved for the length:\n",
      "                1.7249999999999934e-06 and id: 1e-06. Increasing the length.\n",
      "A gm_id of 5 cannot be achieved for the length:\n",
      "                1.7349999999999933e-06 and id: 1e-06. Increasing the length.\n",
      "A gm_id of 5 cannot be achieved for the length:\n",
      "                1.7449999999999932e-06 and id: 1e-06. Increasing the length.\n",
      "A gm_id of 5 cannot be achieved for the length:\n",
      "                1.7549999999999931e-06 and id: 1e-06. Increasing the length.\n",
      "A gm_id of 5 cannot be achieved for the length:\n",
      "                1.764999999999993e-06 and id: 1e-06. Increasing the length.\n",
      "A gm_id of 5 cannot be achieved for the length:\n",
      "                1.774999999999993e-06 and id: 1e-06. Increasing the length.\n",
      "A gm_id of 5 cannot be achieved for the length:\n",
      "                1.7849999999999929e-06 and id: 1e-06. Increasing the length.\n",
      "A gm_id of 5 cannot be achieved for the length:\n",
      "                1.7949999999999928e-06 and id: 1e-06. Increasing the length.\n",
      "A gm_id of 5 cannot be achieved for the length:\n",
      "                1.8049999999999927e-06 and id: 1e-06. Increasing the length.\n",
      "A gm_id of 5 cannot be achieved for the length:\n",
      "                1.8149999999999926e-06 and id: 1e-06. Increasing the length.\n",
      "A gm_id of 5 cannot be achieved for the length:\n",
      "                1.8249999999999925e-06 and id: 1e-06. Increasing the length.\n",
      "A gm_id of 5 cannot be achieved for the length:\n",
      "                1.8349999999999924e-06 and id: 1e-06. Increasing the length.\n",
      "A gm_id of 5 cannot be achieved for the length:\n",
      "                1.8449999999999923e-06 and id: 1e-06. Increasing the length.\n",
      "A gm_id of 5 cannot be achieved for the length:\n",
      "                1.8549999999999922e-06 and id: 1e-06. Increasing the length.\n",
      "A gm_id of 5 cannot be achieved for the length:\n",
      "                1.864999999999992e-06 and id: 1e-06. Increasing the length.\n",
      "A gm_id of 5 cannot be achieved for the length:\n",
      "                1.874999999999992e-06 and id: 1e-06. Increasing the length.\n",
      "A gm_id of 5 cannot be achieved for the length:\n",
      "                1.884999999999992e-06 and id: 1e-06. Increasing the length.\n",
      "A gm_id of 5 cannot be achieved for the length:\n",
      "                1.8949999999999918e-06 and id: 1e-06. Increasing the length.\n",
      "A gm_id of 5 cannot be achieved for the length:\n",
      "                1.9049999999999917e-06 and id: 1e-06. Increasing the length.\n",
      "A gm_id of 5 cannot be achieved for the length:\n",
      "                1.914999999999992e-06 and id: 1e-06. Increasing the length.\n",
      "A gm_id of 5 cannot be achieved for the length:\n",
      "                1.9249999999999917e-06 and id: 1e-06. Increasing the length.\n",
      "A gm_id of 5 cannot be achieved for the length:\n",
      "                1.9349999999999916e-06 and id: 1e-06. Increasing the length.\n",
      "A gm_id of 5 cannot be achieved for the length:\n",
      "                1.9449999999999915e-06 and id: 1e-06. Increasing the length.\n",
      "A gm_id of 5 cannot be achieved for the length:\n",
      "                1.9549999999999914e-06 and id: 1e-06. Increasing the length.\n",
      "A gm_id of 5 cannot be achieved for the length:\n",
      "                1.9649999999999914e-06 and id: 1e-06. Increasing the length.\n",
      "A gm_id of 5 cannot be achieved for the length:\n",
      "                1.9749999999999913e-06 and id: 1e-06. Increasing the length.\n",
      "A gm_id of 5 cannot be achieved for the length:\n",
      "                1.984999999999991e-06 and id: 1e-06. Increasing the length.\n",
      "A gm_id of 5 cannot be achieved for the length:\n",
      "                1.994999999999991e-06 and id: 1e-06. Increasing the length.\n",
      "A gm_id of 5 cannot be achieved for the length:\n",
      "                2.004999999999991e-06 and id: 1e-06. Increasing the length.\n",
      "A gm_id of 5 cannot be achieved for the length:\n",
      "                2.014999999999991e-06 and id: 1e-06. Increasing the length.\n",
      "A gm_id of 5 cannot be achieved for the length:\n",
      "                2.0249999999999908e-06 and id: 1e-06. Increasing the length.\n",
      "A gm_id of 5 cannot be achieved for the length:\n",
      "                2.0349999999999907e-06 and id: 1e-06. Increasing the length.\n",
      "A gm_id of 5 cannot be achieved for the length:\n",
      "                2.0449999999999906e-06 and id: 1e-06. Increasing the length.\n",
      "A gm_id of 5 cannot be achieved for the length:\n",
      "                2.0549999999999905e-06 and id: 1e-06. Increasing the length.\n",
      "A gm_id of 5 cannot be achieved for the length:\n",
      "                2.0649999999999904e-06 and id: 1e-06. Increasing the length.\n",
      "A gm_id of 5 cannot be achieved for the length:\n",
      "                2.0749999999999903e-06 and id: 1e-06. Increasing the length.\n",
      "A gm_id of 5 cannot be achieved for the length:\n",
      "                2.08499999999999e-06 and id: 1e-06. Increasing the length.\n",
      "A gm_id of 5 cannot be achieved for the length:\n",
      "                2.09499999999999e-06 and id: 1e-06. Increasing the length.\n",
      "A gm_id of 5 cannot be achieved for the length:\n",
      "                2.10499999999999e-06 and id: 1e-06. Increasing the length.\n",
      "A gm_id of 5 cannot be achieved for the length:\n",
      "                2.11499999999999e-06 and id: 1e-06. Increasing the length.\n",
      "A gm_id of 5 cannot be achieved for the length:\n",
      "                2.12499999999999e-06 and id: 1e-06. Increasing the length.\n",
      "A gm_id of 5 cannot be achieved for the length:\n",
      "                2.1349999999999897e-06 and id: 1e-06. Increasing the length.\n",
      "A gm_id of 5 cannot be achieved for the length:\n",
      "                2.1449999999999896e-06 and id: 1e-06. Increasing the length.\n",
      "A gm_id of 5 cannot be achieved for the length:\n",
      "                2.1549999999999895e-06 and id: 1e-06. Increasing the length.\n",
      "A gm_id of 5 cannot be achieved for the length:\n",
      "                2.1649999999999894e-06 and id: 1e-06. Increasing the length.\n",
      "A gm_id of 5 cannot be achieved for the length:\n",
      "                2.1749999999999893e-06 and id: 1e-06. Increasing the length.\n",
      "A gm_id of 5 cannot be achieved for the length:\n",
      "                2.1849999999999892e-06 and id: 1e-06. Increasing the length.\n",
      "A gm_id of 5 cannot be achieved for the length:\n",
      "                2.194999999999989e-06 and id: 1e-06. Increasing the length.\n",
      "A gm_id of 5 cannot be achieved for the length:\n",
      "                2.204999999999989e-06 and id: 1e-06. Increasing the length.\n",
      "A gm_id of 5 cannot be achieved for the length:\n",
      "                2.214999999999989e-06 and id: 1e-06. Increasing the length.\n",
      "A gm_id of 5 cannot be achieved for the length:\n",
      "                2.224999999999989e-06 and id: 1e-06. Increasing the length.\n",
      "A gm_id of 5 cannot be achieved for the length:\n",
      "                2.2349999999999888e-06 and id: 1e-06. Increasing the length.\n",
      "A gm_id of 5 cannot be achieved for the length:\n",
      "                2.2449999999999887e-06 and id: 1e-06. Increasing the length.\n",
      "A gm_id of 5 cannot be achieved for the length:\n",
      "                2.2549999999999886e-06 and id: 1e-06. Increasing the length.\n",
      "A gm_id of 5 cannot be achieved for the length:\n",
      "                2.2649999999999885e-06 and id: 1e-06. Increasing the length.\n",
      "A gm_id of 5 cannot be achieved for the length:\n",
      "                2.2749999999999884e-06 and id: 1e-06. Increasing the length.\n",
      "A gm_id of 5 cannot be achieved for the length:\n",
      "                2.2849999999999883e-06 and id: 1e-06. Increasing the length.\n",
      "A gm_id of 5 cannot be achieved for the length:\n",
      "                2.294999999999988e-06 and id: 1e-06. Increasing the length.\n",
      "A gm_id of 5 cannot be achieved for the length:\n",
      "                2.304999999999988e-06 and id: 1e-06. Increasing the length.\n",
      "A gm_id of 5 cannot be achieved for the length:\n",
      "                2.314999999999988e-06 and id: 1e-06. Increasing the length.\n",
      "A gm_id of 5 cannot be achieved for the length:\n",
      "                2.324999999999988e-06 and id: 1e-06. Increasing the length.\n",
      "A gm_id of 5 cannot be achieved for the length:\n",
      "                2.334999999999988e-06 and id: 1e-06. Increasing the length.\n",
      "A gm_id of 5 cannot be achieved for the length:\n",
      "                2.3449999999999877e-06 and id: 1e-06. Increasing the length.\n",
      "A gm_id of 5 cannot be achieved for the length:\n",
      "                2.3549999999999876e-06 and id: 1e-06. Increasing the length.\n",
      "A gm_id of 5 cannot be achieved for the length:\n",
      "                2.3649999999999875e-06 and id: 1e-06. Increasing the length.\n",
      "A gm_id of 5 cannot be achieved for the length:\n",
      "                2.3749999999999874e-06 and id: 1e-06. Increasing the length.\n",
      "A gm_id of 5 cannot be achieved for the length:\n",
      "                2.3849999999999873e-06 and id: 1e-06. Increasing the length.\n",
      "A gm_id of 5 cannot be achieved for the length:\n",
      "                2.3949999999999872e-06 and id: 1e-06. Increasing the length.\n",
      "A gm_id of 5 cannot be achieved for the length:\n",
      "                2.404999999999987e-06 and id: 1e-06. Increasing the length.\n",
      "A gm_id of 5 cannot be achieved for the length:\n",
      "                2.414999999999987e-06 and id: 1e-06. Increasing the length.\n",
      "A gm_id of 5 cannot be achieved for the length:\n",
      "                2.424999999999987e-06 and id: 1e-06. Increasing the length.\n",
      "A gm_id of 5 cannot be achieved for the length:\n",
      "                2.434999999999987e-06 and id: 1e-06. Increasing the length.\n",
      "A gm_id of 5 cannot be achieved for the length:\n",
      "                2.4449999999999868e-06 and id: 1e-06. Increasing the length.\n",
      "A gm_id of 5 cannot be achieved for the length:\n",
      "                2.4549999999999867e-06 and id: 1e-06. Increasing the length.\n",
      "A gm_id of 5 cannot be achieved for the length:\n",
      "                2.4649999999999866e-06 and id: 1e-06. Increasing the length.\n",
      "A gm_id of 5 cannot be achieved for the length:\n",
      "                2.4749999999999865e-06 and id: 1e-06. Increasing the length.\n",
      "A gm_id of 5 cannot be achieved for the length:\n",
      "                2.4849999999999864e-06 and id: 1e-06. Increasing the length.\n",
      "A gm_id of 5 cannot be achieved for the length:\n",
      "                2.4949999999999863e-06 and id: 1e-06. Increasing the length.\n",
      "A gm_id of 5 cannot be achieved for the length:\n",
      "                2.504999999999986e-06 and id: 1e-06. Increasing the length.\n",
      "A gm_id of 5 cannot be achieved for the length:\n",
      "                2.514999999999986e-06 and id: 1e-06. Increasing the length.\n",
      "A gm_id of 5 cannot be achieved for the length:\n",
      "                2.524999999999986e-06 and id: 1e-06. Increasing the length.\n",
      "A gm_id of 5 cannot be achieved for the length:\n",
      "                2.534999999999986e-06 and id: 1e-06. Increasing the length.\n",
      "A gm_id of 5 cannot be achieved for the length:\n",
      "                2.544999999999986e-06 and id: 1e-06. Increasing the length.\n",
      "A gm_id of 5 cannot be achieved for the length:\n",
      "                2.5549999999999857e-06 and id: 1e-06. Increasing the length.\n",
      "A gm_id of 5 cannot be achieved for the length:\n",
      "                2.5649999999999856e-06 and id: 1e-06. Increasing the length.\n",
      "A gm_id of 5 cannot be achieved for the length:\n",
      "                2.5749999999999855e-06 and id: 1e-06. Increasing the length.\n",
      "A gm_id of 5 cannot be achieved for the length:\n",
      "                2.5849999999999854e-06 and id: 1e-06. Increasing the length.\n",
      "A gm_id of 5 cannot be achieved for the length:\n",
      "                2.5949999999999853e-06 and id: 1e-06. Increasing the length.\n",
      "A gm_id of 5 cannot be achieved for the length:\n",
      "                2.6049999999999852e-06 and id: 1e-06. Increasing the length.\n",
      "A gm_id of 5 cannot be achieved for the length:\n",
      "                2.614999999999985e-06 and id: 1e-06. Increasing the length.\n",
      "----------BEGIN--------------------\n",
      "-----------------------------------\n",
      "type:nmos_vth\n",
      "length:2.624999999999985e-06\n",
      "gm_id:5\n",
      "id:1e-06\n",
      "w:9.011836353137797e-08\n",
      "description:Just in case you want to be more detailed.\n",
      "-----------------------------------\n",
      "\n",
      "-----------------------------------\n",
      "type:pmos_vth\n",
      "length:4.5e-08\n",
      "gm_id:15\n",
      "id:1e-05\n",
      "w:9e-08\n",
      "description:Just in case you want to be more detailed.\n",
      "-----------------------------------\n",
      "\n",
      "------------END--------------------\n"
     ]
    }
   ],
   "source": [
    "if look_upW_circuit(five_t_ota,lut_root):\n",
    "    print_circuit(five_t_ota)\n",
    "else:\n",
    "    print(\"Issue with the circuit.\")"
   ]
  }
 ],
 "metadata": {
  "kernelspec": {
   "display_name": "analog_daddy_user_env",
   "language": "python",
   "name": "python3"
  },
  "language_info": {
   "codemirror_mode": {
    "name": "ipython",
    "version": 3
   },
   "file_extension": ".py",
   "mimetype": "text/x-python",
   "name": "python",
   "nbconvert_exporter": "python",
   "pygments_lexer": "ipython3",
   "version": "3.13.5"
  }
 },
 "nbformat": 4,
 "nbformat_minor": 2
}
