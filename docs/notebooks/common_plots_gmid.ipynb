{
 "cells": [
  {
   "cell_type": "markdown",
   "metadata": {},
   "source": [
    "# Introduction\n",
    "\n",
    "Hopefully the [Usage Demo Notebook](./usage_demo.ipynb) made you comfortable in using the `look_up` function. Now, this notebook will have demo plots that I generally use in design using ${g_{m}}\\over{i_{d}}$ methodology which will henceforth be typed as gm_id methodology. This methodology treats gm_id as an independent variable in addition to Length and bias current. All of them when selected appropriately should give you a transistor biased to be used as an active device.\n",
    "\n",
    "This is just one of the templates that I use and you can create a template of your choice and use your methodology of choice. For example, instead of gm/id as an independent variable you use [inversion coefficient as the independent variable](https://kevinfronczak.com/blog/inversion-coefficient-based-circuit-design) or any other.\n",
    "\n",
    "However, at the core of any methodology is the Look up Table (LUT) you will access and hence the need to iterate device dimensions to achieve the correct biasing should be minimal.\n",
    "\n",
    "Note: These plots will always be W.I.P, hence if you don't like certain changes you can always access the historical versions!"
   ]
  },
  {
   "cell_type": "markdown",
   "metadata": {},
   "source": [
    "The following code block essentially imports/includes the necessary libraries. Additionally, it tries to import the config file named `conf.py`. You defined the values in this file in [Import Demo](./import_demo.ipynb). Do not attempt to write this file manually. If you want to rewrite head back to the relevant section of [Import Demo](./import_demo.ipynb). Make sure to append the correct library path to the system path. In case you are using the `docs/notebooks` directory `../../` is your library path."
   ]
  },
  {
   "cell_type": "code",
   "execution_count": 1,
   "metadata": {},
   "outputs": [],
   "source": [
    "import sys\n",
    "import os\n",
    "import numpy as np\n",
    "import pandas as pd\n",
    "import plotly.express as px\n",
    "import plotly.graph_objects as go\n",
    "# Append the path of your library to the system path\n",
    "sys.path.append(os.path.abspath(\"../../\"))\n",
    "from analog_daddy.look_up import look_up\n",
    "from analog_daddy.utils import pretty_print_structure, describe_structure\n",
    "from analog_daddy.conf import * # import all the config variables"
   ]
  },
  {
   "cell_type": "code",
   "execution_count": 2,
   "metadata": {},
   "outputs": [],
   "source": [
    "z = np.load('../../sample_files/GPDK45.npy', allow_pickle=True).item()\n",
    "nmos = z['nmos_svt']\n",
    "pmos = z['pmos_svt']"
   ]
  },
  {
   "cell_type": "code",
   "execution_count": null,
   "metadata": {},
   "outputs": [],
   "source": [
    "# You can use the following to print the structure of device if you get confused\n",
    "# about the keys or min and max values in the conf file.\n",
    "# pretty_print_structure(describe_structure(nmos))"
   ]
  },
  {
   "cell_type": "markdown",
   "metadata": {},
   "source": [
    "## $\\mu_f$ vs ${g_m}\\over{i_d}$ for different lengths"
   ]
  },
  {
   "cell_type": "code",
   "execution_count": 8,
   "metadata": {},
   "outputs": [
    {
     "data": {
      "application/vnd.plotly.v1+json": {
       "config": {
        "plotlyServerURL": "https://plot.ly"
       },
       "data": [
        {
         "mode": "lines",
         "name": "L=1e-06 m",
         "type": "scatter",
         "x": [
          5,
          6.071428571428571,
          7.142857142857142,
          8.214285714285715,
          9.285714285714285,
          10.357142857142858,
          11.428571428571429,
          12.5,
          13.571428571428571,
          14.642857142857142,
          15.714285714285714,
          16.785714285714285,
          17.857142857142858,
          18.92857142857143,
          20
         ],
         "y": [
          17.289966334342246,
          20.927751543900143,
          24.565536753458044,
          28.20332196301595,
          30.81977891467779,
          31.22696844521309,
          31.634157975748387,
          32.041347506283685,
          32.44853703681898,
          32.85572656735428,
          33.26291609788958,
          33.67010562842488,
          34.077295158960176,
          34.484484689495474,
          34.89167422003077
         ]
        },
        {
         "mode": "lines",
         "name": "L=1.111111111111111e-06 m",
         "type": "scatter",
         "x": [
          5,
          6.071428571428571,
          7.142857142857142,
          8.214285714285715,
          9.285714285714285,
          10.357142857142858,
          11.428571428571429,
          12.5,
          13.571428571428571,
          14.642857142857142,
          15.714285714285714,
          16.785714285714285,
          17.857142857142858,
          18.92857142857143,
          20
         ],
         "y": [
          17.975401272259184,
          21.76230716197692,
          25.549213051694657,
          29.3361189414124,
          31.848134339217665,
          32.251315961791384,
          32.654497584365096,
          33.057679206938815,
          33.46086082951253,
          33.864042452086245,
          34.267224074659964,
          34.670405697233676,
          35.073587319807395,
          35.476768942381106,
          35.879950564954825
         ]
        },
        {
         "mode": "lines",
         "name": "L=1.2222222222222221e-06 m",
         "type": "scatter",
         "x": [
          5,
          6.071428571428571,
          7.142857142857142,
          8.214285714285715,
          9.285714285714285,
          10.357142857142858,
          11.428571428571429,
          12.5,
          13.571428571428571,
          14.642857142857142,
          15.714285714285714,
          16.785714285714285,
          17.857142857142858,
          18.92857142857143,
          20
         ],
         "y": [
          18.668515138922782,
          22.60746180809601,
          26.546408477269235,
          30.48535514644247,
          32.87599628611037,
          33.27515288414224,
          33.67430948217411,
          34.073466080205975,
          34.47262267823785,
          34.87177927626971,
          35.270935874301585,
          35.67009247233345,
          36.06924907036532,
          36.468405668397196,
          36.86756226642906
         ]
        },
        {
         "mode": "lines",
         "name": "L=1.3333333333333334e-06 m",
         "type": "scatter",
         "x": [
          5,
          6.071428571428571,
          7.142857142857142,
          8.214285714285715,
          9.285714285714285,
          10.357142857142858,
          11.428571428571429,
          12.5,
          13.571428571428571,
          14.642857142857142,
          15.714285714285714,
          16.785714285714285,
          17.857142857142858,
          18.92857142857143,
          20
         ],
         "y": [
          19.36953571916316,
          23.463529887805592,
          27.55752405644802,
          31.65151822509046,
          33.90336158734717,
          34.29847593437257,
          34.693590281397974,
          35.08870462842337,
          35.48381897544877,
          35.878933322474175,
          36.27404766949957,
          36.66916201652497,
          37.06427636355038,
          37.459390710575775,
          37.85450505760117
         ]
        },
        {
         "mode": "lines",
         "name": "L=1.4444444444444445e-06 m",
         "type": "scatter",
         "x": [
          5,
          6.071428571428571,
          7.142857142857142,
          8.214285714285715,
          9.285714285714285,
          10.357142857142858,
          11.428571428571429,
          12.5,
          13.571428571428571,
          14.642857142857142,
          15.714285714285714,
          16.785714285714285,
          17.857142857142858,
          18.92857142857143,
          20
         ],
         "y": [
          20.078699897012623,
          24.330838366048827,
          28.582976835085027,
          32.835115304121246,
          34.930227047744076,
          35.32128180647143,
          35.71233656519878,
          36.10339132392614,
          36.49444608265349,
          36.885500841380846,
          37.276555600108196,
          37.66761035883555,
          38.05866511756291,
          38.44971987629026,
          38.84077463501762
         ]
        },
        {
         "mode": "lines",
         "name": "L=1.5555555555555556e-06 m",
         "type": "scatter",
         "x": [
          5,
          6.071428571428571,
          7.142857142857142,
          8.214285714285715,
          9.285714285714285,
          10.357142857142858,
          11.428571428571429,
          12.5,
          13.571428571428571,
          14.642857142857142,
          15.714285714285714,
          16.785714285714285,
          17.857142857142858,
          18.92857142857143,
          20
         ],
         "y": [
          20.701331947693397,
          25.09426009351651,
          29.487188239339627,
          33.88011638516275,
          35.84419467885292,
          36.23225583605316,
          36.620316993253404,
          37.008378150453645,
          37.396439307653885,
          37.78450046485413,
          38.172561622054374,
          38.560622779254615,
          38.948683936454856,
          39.3367450936551,
          39.72480625085534
         ]
        },
        {
         "mode": "lines",
         "name": "L=1.6666666666666667e-06 m",
         "type": "scatter",
         "x": [
          5,
          6.071428571428571,
          7.142857142857142,
          8.214285714285715,
          9.285714285714285,
          10.357142857142858,
          11.428571428571429,
          12.5,
          13.571428571428571,
          14.642857142857142,
          15.714285714285714,
          16.785714285714285,
          17.857142857142858,
          18.92857142857143,
          20
         ],
         "y": [
          21.233993988560776,
          25.74902822431868,
          30.26406246007658,
          34.77909669583449,
          36.64553794677405,
          37.03168003576005,
          37.417822124746046,
          37.803964213732044,
          38.19010630271804,
          38.57624839170404,
          38.96239048069004,
          39.348532569676046,
          39.734674658662044,
          40.12081674764804,
          40.50695883663404
         ]
        },
        {
         "mode": "lines",
         "name": "L=1.7777777777777777e-06 m",
         "type": "scatter",
         "x": [
          5,
          6.071428571428571,
          7.142857142857142,
          8.214285714285715,
          9.285714285714285,
          10.357142857142858,
          11.428571428571429,
          12.5,
          13.571428571428571,
          14.642857142857142,
          15.714285714285714,
          16.785714285714285,
          17.857142857142858,
          18.92857142857143,
          20
         ],
         "y": [
          21.770474953282868,
          26.409038264497013,
          31.047601575711163,
          35.68616488692532,
          37.44674276844209,
          37.83095973044529,
          38.21517669244849,
          38.59939365445169,
          38.98361061645488,
          39.36782757845808,
          39.752044540461284,
          40.136261502464485,
          40.52047846446768,
          40.90469542647088,
          41.28891238847408
         ]
        },
        {
         "mode": "lines",
         "name": "L=1.8888888888888888e-06 m",
         "type": "scatter",
         "x": [
          5,
          6.071428571428571,
          7.142857142857142,
          8.214285714285715,
          9.285714285714285,
          10.357142857142858,
          11.428571428571429,
          12.5,
          13.571428571428571,
          14.642857142857142,
          15.714285714285714,
          16.785714285714285,
          17.857142857142858,
          18.92857142857143,
          20
         ],
         "y": [
          22.310841989905956,
          27.074382382418005,
          31.837922774930053,
          36.60146316744211,
          38.24780848717898,
          38.630094234692876,
          39.012379982206774,
          39.39466572972067,
          39.77695147723457,
          40.159237224748466,
          40.541522972262364,
          40.92380871977626,
          41.30609446729016,
          41.688380214804056,
          42.07066596231795
         ]
        },
        {
         "mode": "lines",
         "name": "L=2e-06 m",
         "type": "scatter",
         "x": [
          5,
          6.071428571428571,
          7.142857142857142,
          8.214285714285715,
          9.285714285714285,
          10.357142857142858,
          11.428571428571429,
          12.5,
          13.571428571428571,
          14.642857142857142,
          15.714285714285714,
          16.785714285714285,
          17.857142857142858,
          18.92857142857143,
          20
         ],
         "y": [
          22.855163829973833,
          27.745154919979406,
          32.63514600998498,
          37.52513709999056,
          39.04873444214705,
          39.42908285874516,
          39.80943127534328,
          40.189779691941396,
          40.570128108539514,
          40.950476525137624,
          41.33082494173574,
          41.71117335833386,
          42.09152177493197,
          42.47187019153009,
          42.852218608128204
         ]
        }
       ],
       "layout": {
        "template": {
         "data": {
          "bar": [
           {
            "error_x": {
             "color": "#2a3f5f"
            },
            "error_y": {
             "color": "#2a3f5f"
            },
            "marker": {
             "line": {
              "color": "#E5ECF6",
              "width": 0.5
             },
             "pattern": {
              "fillmode": "overlay",
              "size": 10,
              "solidity": 0.2
             }
            },
            "type": "bar"
           }
          ],
          "barpolar": [
           {
            "marker": {
             "line": {
              "color": "#E5ECF6",
              "width": 0.5
             },
             "pattern": {
              "fillmode": "overlay",
              "size": 10,
              "solidity": 0.2
             }
            },
            "type": "barpolar"
           }
          ],
          "carpet": [
           {
            "aaxis": {
             "endlinecolor": "#2a3f5f",
             "gridcolor": "white",
             "linecolor": "white",
             "minorgridcolor": "white",
             "startlinecolor": "#2a3f5f"
            },
            "baxis": {
             "endlinecolor": "#2a3f5f",
             "gridcolor": "white",
             "linecolor": "white",
             "minorgridcolor": "white",
             "startlinecolor": "#2a3f5f"
            },
            "type": "carpet"
           }
          ],
          "choropleth": [
           {
            "colorbar": {
             "outlinewidth": 0,
             "ticks": ""
            },
            "type": "choropleth"
           }
          ],
          "contour": [
           {
            "colorbar": {
             "outlinewidth": 0,
             "ticks": ""
            },
            "colorscale": [
             [
              0,
              "#0d0887"
             ],
             [
              0.1111111111111111,
              "#46039f"
             ],
             [
              0.2222222222222222,
              "#7201a8"
             ],
             [
              0.3333333333333333,
              "#9c179e"
             ],
             [
              0.4444444444444444,
              "#bd3786"
             ],
             [
              0.5555555555555556,
              "#d8576b"
             ],
             [
              0.6666666666666666,
              "#ed7953"
             ],
             [
              0.7777777777777778,
              "#fb9f3a"
             ],
             [
              0.8888888888888888,
              "#fdca26"
             ],
             [
              1,
              "#f0f921"
             ]
            ],
            "type": "contour"
           }
          ],
          "contourcarpet": [
           {
            "colorbar": {
             "outlinewidth": 0,
             "ticks": ""
            },
            "type": "contourcarpet"
           }
          ],
          "heatmap": [
           {
            "colorbar": {
             "outlinewidth": 0,
             "ticks": ""
            },
            "colorscale": [
             [
              0,
              "#0d0887"
             ],
             [
              0.1111111111111111,
              "#46039f"
             ],
             [
              0.2222222222222222,
              "#7201a8"
             ],
             [
              0.3333333333333333,
              "#9c179e"
             ],
             [
              0.4444444444444444,
              "#bd3786"
             ],
             [
              0.5555555555555556,
              "#d8576b"
             ],
             [
              0.6666666666666666,
              "#ed7953"
             ],
             [
              0.7777777777777778,
              "#fb9f3a"
             ],
             [
              0.8888888888888888,
              "#fdca26"
             ],
             [
              1,
              "#f0f921"
             ]
            ],
            "type": "heatmap"
           }
          ],
          "heatmapgl": [
           {
            "colorbar": {
             "outlinewidth": 0,
             "ticks": ""
            },
            "colorscale": [
             [
              0,
              "#0d0887"
             ],
             [
              0.1111111111111111,
              "#46039f"
             ],
             [
              0.2222222222222222,
              "#7201a8"
             ],
             [
              0.3333333333333333,
              "#9c179e"
             ],
             [
              0.4444444444444444,
              "#bd3786"
             ],
             [
              0.5555555555555556,
              "#d8576b"
             ],
             [
              0.6666666666666666,
              "#ed7953"
             ],
             [
              0.7777777777777778,
              "#fb9f3a"
             ],
             [
              0.8888888888888888,
              "#fdca26"
             ],
             [
              1,
              "#f0f921"
             ]
            ],
            "type": "heatmapgl"
           }
          ],
          "histogram": [
           {
            "marker": {
             "pattern": {
              "fillmode": "overlay",
              "size": 10,
              "solidity": 0.2
             }
            },
            "type": "histogram"
           }
          ],
          "histogram2d": [
           {
            "colorbar": {
             "outlinewidth": 0,
             "ticks": ""
            },
            "colorscale": [
             [
              0,
              "#0d0887"
             ],
             [
              0.1111111111111111,
              "#46039f"
             ],
             [
              0.2222222222222222,
              "#7201a8"
             ],
             [
              0.3333333333333333,
              "#9c179e"
             ],
             [
              0.4444444444444444,
              "#bd3786"
             ],
             [
              0.5555555555555556,
              "#d8576b"
             ],
             [
              0.6666666666666666,
              "#ed7953"
             ],
             [
              0.7777777777777778,
              "#fb9f3a"
             ],
             [
              0.8888888888888888,
              "#fdca26"
             ],
             [
              1,
              "#f0f921"
             ]
            ],
            "type": "histogram2d"
           }
          ],
          "histogram2dcontour": [
           {
            "colorbar": {
             "outlinewidth": 0,
             "ticks": ""
            },
            "colorscale": [
             [
              0,
              "#0d0887"
             ],
             [
              0.1111111111111111,
              "#46039f"
             ],
             [
              0.2222222222222222,
              "#7201a8"
             ],
             [
              0.3333333333333333,
              "#9c179e"
             ],
             [
              0.4444444444444444,
              "#bd3786"
             ],
             [
              0.5555555555555556,
              "#d8576b"
             ],
             [
              0.6666666666666666,
              "#ed7953"
             ],
             [
              0.7777777777777778,
              "#fb9f3a"
             ],
             [
              0.8888888888888888,
              "#fdca26"
             ],
             [
              1,
              "#f0f921"
             ]
            ],
            "type": "histogram2dcontour"
           }
          ],
          "mesh3d": [
           {
            "colorbar": {
             "outlinewidth": 0,
             "ticks": ""
            },
            "type": "mesh3d"
           }
          ],
          "parcoords": [
           {
            "line": {
             "colorbar": {
              "outlinewidth": 0,
              "ticks": ""
             }
            },
            "type": "parcoords"
           }
          ],
          "pie": [
           {
            "automargin": true,
            "type": "pie"
           }
          ],
          "scatter": [
           {
            "fillpattern": {
             "fillmode": "overlay",
             "size": 10,
             "solidity": 0.2
            },
            "type": "scatter"
           }
          ],
          "scatter3d": [
           {
            "line": {
             "colorbar": {
              "outlinewidth": 0,
              "ticks": ""
             }
            },
            "marker": {
             "colorbar": {
              "outlinewidth": 0,
              "ticks": ""
             }
            },
            "type": "scatter3d"
           }
          ],
          "scattercarpet": [
           {
            "marker": {
             "colorbar": {
              "outlinewidth": 0,
              "ticks": ""
             }
            },
            "type": "scattercarpet"
           }
          ],
          "scattergeo": [
           {
            "marker": {
             "colorbar": {
              "outlinewidth": 0,
              "ticks": ""
             }
            },
            "type": "scattergeo"
           }
          ],
          "scattergl": [
           {
            "marker": {
             "colorbar": {
              "outlinewidth": 0,
              "ticks": ""
             }
            },
            "type": "scattergl"
           }
          ],
          "scattermapbox": [
           {
            "marker": {
             "colorbar": {
              "outlinewidth": 0,
              "ticks": ""
             }
            },
            "type": "scattermapbox"
           }
          ],
          "scatterpolar": [
           {
            "marker": {
             "colorbar": {
              "outlinewidth": 0,
              "ticks": ""
             }
            },
            "type": "scatterpolar"
           }
          ],
          "scatterpolargl": [
           {
            "marker": {
             "colorbar": {
              "outlinewidth": 0,
              "ticks": ""
             }
            },
            "type": "scatterpolargl"
           }
          ],
          "scatterternary": [
           {
            "marker": {
             "colorbar": {
              "outlinewidth": 0,
              "ticks": ""
             }
            },
            "type": "scatterternary"
           }
          ],
          "surface": [
           {
            "colorbar": {
             "outlinewidth": 0,
             "ticks": ""
            },
            "colorscale": [
             [
              0,
              "#0d0887"
             ],
             [
              0.1111111111111111,
              "#46039f"
             ],
             [
              0.2222222222222222,
              "#7201a8"
             ],
             [
              0.3333333333333333,
              "#9c179e"
             ],
             [
              0.4444444444444444,
              "#bd3786"
             ],
             [
              0.5555555555555556,
              "#d8576b"
             ],
             [
              0.6666666666666666,
              "#ed7953"
             ],
             [
              0.7777777777777778,
              "#fb9f3a"
             ],
             [
              0.8888888888888888,
              "#fdca26"
             ],
             [
              1,
              "#f0f921"
             ]
            ],
            "type": "surface"
           }
          ],
          "table": [
           {
            "cells": {
             "fill": {
              "color": "#EBF0F8"
             },
             "line": {
              "color": "white"
             }
            },
            "header": {
             "fill": {
              "color": "#C8D4E3"
             },
             "line": {
              "color": "white"
             }
            },
            "type": "table"
           }
          ]
         },
         "layout": {
          "annotationdefaults": {
           "arrowcolor": "#2a3f5f",
           "arrowhead": 0,
           "arrowwidth": 1
          },
          "autotypenumbers": "strict",
          "coloraxis": {
           "colorbar": {
            "outlinewidth": 0,
            "ticks": ""
           }
          },
          "colorscale": {
           "diverging": [
            [
             0,
             "#8e0152"
            ],
            [
             0.1,
             "#c51b7d"
            ],
            [
             0.2,
             "#de77ae"
            ],
            [
             0.3,
             "#f1b6da"
            ],
            [
             0.4,
             "#fde0ef"
            ],
            [
             0.5,
             "#f7f7f7"
            ],
            [
             0.6,
             "#e6f5d0"
            ],
            [
             0.7,
             "#b8e186"
            ],
            [
             0.8,
             "#7fbc41"
            ],
            [
             0.9,
             "#4d9221"
            ],
            [
             1,
             "#276419"
            ]
           ],
           "sequential": [
            [
             0,
             "#0d0887"
            ],
            [
             0.1111111111111111,
             "#46039f"
            ],
            [
             0.2222222222222222,
             "#7201a8"
            ],
            [
             0.3333333333333333,
             "#9c179e"
            ],
            [
             0.4444444444444444,
             "#bd3786"
            ],
            [
             0.5555555555555556,
             "#d8576b"
            ],
            [
             0.6666666666666666,
             "#ed7953"
            ],
            [
             0.7777777777777778,
             "#fb9f3a"
            ],
            [
             0.8888888888888888,
             "#fdca26"
            ],
            [
             1,
             "#f0f921"
            ]
           ],
           "sequentialminus": [
            [
             0,
             "#0d0887"
            ],
            [
             0.1111111111111111,
             "#46039f"
            ],
            [
             0.2222222222222222,
             "#7201a8"
            ],
            [
             0.3333333333333333,
             "#9c179e"
            ],
            [
             0.4444444444444444,
             "#bd3786"
            ],
            [
             0.5555555555555556,
             "#d8576b"
            ],
            [
             0.6666666666666666,
             "#ed7953"
            ],
            [
             0.7777777777777778,
             "#fb9f3a"
            ],
            [
             0.8888888888888888,
             "#fdca26"
            ],
            [
             1,
             "#f0f921"
            ]
           ]
          },
          "colorway": [
           "#636efa",
           "#EF553B",
           "#00cc96",
           "#ab63fa",
           "#FFA15A",
           "#19d3f3",
           "#FF6692",
           "#B6E880",
           "#FF97FF",
           "#FECB52"
          ],
          "font": {
           "color": "#2a3f5f"
          },
          "geo": {
           "bgcolor": "white",
           "lakecolor": "white",
           "landcolor": "#E5ECF6",
           "showlakes": true,
           "showland": true,
           "subunitcolor": "white"
          },
          "hoverlabel": {
           "align": "left"
          },
          "hovermode": "closest",
          "mapbox": {
           "style": "light"
          },
          "paper_bgcolor": "white",
          "plot_bgcolor": "#E5ECF6",
          "polar": {
           "angularaxis": {
            "gridcolor": "white",
            "linecolor": "white",
            "ticks": ""
           },
           "bgcolor": "#E5ECF6",
           "radialaxis": {
            "gridcolor": "white",
            "linecolor": "white",
            "ticks": ""
           }
          },
          "scene": {
           "xaxis": {
            "backgroundcolor": "#E5ECF6",
            "gridcolor": "white",
            "gridwidth": 2,
            "linecolor": "white",
            "showbackground": true,
            "ticks": "",
            "zerolinecolor": "white"
           },
           "yaxis": {
            "backgroundcolor": "#E5ECF6",
            "gridcolor": "white",
            "gridwidth": 2,
            "linecolor": "white",
            "showbackground": true,
            "ticks": "",
            "zerolinecolor": "white"
           },
           "zaxis": {
            "backgroundcolor": "#E5ECF6",
            "gridcolor": "white",
            "gridwidth": 2,
            "linecolor": "white",
            "showbackground": true,
            "ticks": "",
            "zerolinecolor": "white"
           }
          },
          "shapedefaults": {
           "line": {
            "color": "#2a3f5f"
           }
          },
          "ternary": {
           "aaxis": {
            "gridcolor": "white",
            "linecolor": "white",
            "ticks": ""
           },
           "baxis": {
            "gridcolor": "white",
            "linecolor": "white",
            "ticks": ""
           },
           "bgcolor": "#E5ECF6",
           "caxis": {
            "gridcolor": "white",
            "linecolor": "white",
            "ticks": ""
           }
          },
          "title": {
           "x": 0.05
          },
          "xaxis": {
           "automargin": true,
           "gridcolor": "white",
           "linecolor": "white",
           "ticks": "",
           "title": {
            "standoff": 15
           },
           "zerolinecolor": "white",
           "zerolinewidth": 2
          },
          "yaxis": {
           "automargin": true,
           "gridcolor": "white",
           "linecolor": "white",
           "ticks": "",
           "title": {
            "standoff": 15
           },
           "zerolinecolor": "white",
           "zerolinewidth": 2
          }
         }
        },
        "title": {
         "text": "Parametric Plot of gm_gds vs gm_id for different lengths"
        },
        "xaxis": {
         "title": {
          "text": "gm_id"
         }
        },
        "yaxis": {
         "title": {
          "text": "gm_gds"
         }
        }
       }
      }
     },
     "metadata": {},
     "output_type": "display_data"
    }
   ],
   "source": [
    "# The following one liner does the following.\n",
    "# It looks up the value of Intrinsic gain (gm_gds or u_f)\n",
    "# for the given range of gm_id.\n",
    "# for the given lengths sweeps. the six linearly spaced gate source voltages from 0 to VDD and a source bulk voltage of 0.\n",
    "gm_id_sweep = np.linspace(5, 20, 15)\n",
    "length_sweep = np.linspace(L_MIN, L_MAX, 10)\n",
    "\n",
    "gm_gds_nmos = np.array([look_up(nmos, 'gm_gds', gm_id=gm_id_sweep, length=length) for length in length_sweep])\n",
    "#gm_gds_pmos = np.array([look_up(pmos, 'gm_gds', gm_id=-1*gm_id_sweep, length=length) for length in length_sweep])\n",
    "fig = go.Figure()\n",
    "\n",
    "for idx, length in enumerate(length_sweep):\n",
    "    fig.add_trace(go.Scatter(x=gm_id_sweep, y=gm_gds_nmos[idx], mode='lines', name=f'L={length} m'))\n",
    "\n",
    "fig.update_layout(title='Parametric Plot of gm_gds vs gm_id for different lengths', xaxis_title='gm_id', yaxis_title='gm_gds')\n",
    "fig.show()"
   ]
  },
  {
   "cell_type": "markdown",
   "metadata": {},
   "source": [
    "## $f_t$ vs ${g_m}\\over{i_d}$ for different lengths"
   ]
  },
  {
   "cell_type": "markdown",
   "metadata": {},
   "source": [
    "## ${g_{ds}}\\over{i_d}$ vs ${g_m}\\over{i_d}$ for different lengths"
   ]
  },
  {
   "cell_type": "markdown",
   "metadata": {},
   "source": []
  }
 ],
 "metadata": {
  "kernelspec": {
   "display_name": "base",
   "language": "python",
   "name": "python3"
  },
  "language_info": {
   "codemirror_mode": {
    "name": "ipython",
    "version": 3
   },
   "file_extension": ".py",
   "mimetype": "text/x-python",
   "name": "python",
   "nbconvert_exporter": "python",
   "pygments_lexer": "ipython3",
   "version": "3.11.6"
  }
 },
 "nbformat": 4,
 "nbformat_minor": 2
}
