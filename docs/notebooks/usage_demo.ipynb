{
 "cells": [
  {
   "cell_type": "markdown",
   "metadata": {},
   "source": [
    "# Introduction\n",
    "\n",
    "The aim of the following notebook is to make the user comfortable with utilizing the LUT(lookup table) and the accompanying `look_up` function for their transistor sizing flow.\n",
    "\n",
    "We try various plots which we would conventionally plot in Cadence, not for purposes of parameter extraction but usually to verify the sanity of MOSFET models. For example, first order effects like verifying square law, drain current saturation. Then the second order effects like gm saturation, body effect and channel length modulation.\n",
    "\n",
    "Additionally, the key intent of this is exercise is to show the readers that the lookup tables are generated from the actual transistor models by Spectre. So it is encouraged that you plot a certain plot for a given voltages/length and try to compare it with actual value from your simulation. This will increase your confidence in the lookup table as well as provide another layer of sanity check. Additionally, this could serve as a demonstration of limitations of the extrapolation and could give you a guideline in how to select appropriate step sizes for future lookup table generation.\n",
    "\n",
    "Each plot is followed by an empty observation sections, where I encourage you to plot and make observations for future reference."
   ]
  },
  {
   "cell_type": "markdown",
   "metadata": {},
   "source": [
    "The following code block essentially imports/includes the necessary libraries. Additionally, it tries to import the config file named `conf.py`. You defined the values in this file in [Import Demo](./import_demo.ipynb). Do not attempt to write this file manually. If you want to rewrite head back to the relevant section of [Import Demo](./import_demo.ipynb). Make sure to append the correct library path to the system path. In case you are using the `docs/notebooks` directory `../../` is your library path."
   ]
  },
  {
   "cell_type": "code",
   "execution_count": 1,
   "metadata": {},
   "outputs": [],
   "source": [
    "import sys\n",
    "import os\n",
    "import numpy as np\n",
    "import pandas as pd\n",
    "import plotly.express as px\n",
    "import plotly.graph_objects as go\n",
    "# Append the path of your library to the system path\n",
    "sys.path.append(os.path.abspath(\"../../\"))\n",
    "from analog_daddy.look_up import look_up\n",
    "from analog_daddy.utils import pretty_print_structure, describe_structure\n",
    "from analog_daddy.conf import * # import all the config variables"
   ]
  },
  {
   "cell_type": "code",
   "execution_count": 2,
   "metadata": {},
   "outputs": [],
   "source": [
    "DATABASE_ROOT_PATH = \"../../ignored_folder/databases/\"\n",
    "PDK_NAME = \"freepdk45\"\n",
    "FILE_NAME = \"nom_25.npy\"\n",
    "DATABASE_LUT_PATH = os.path.join(DATABASE_ROOT_PATH, PDK_NAME, \"NPY\", FILE_NAME)\n",
    "z = np.load(DATABASE_LUT_PATH, allow_pickle=True).item()\n",
    "nmos = z['nmos_vth']\n",
    "pmos = z['pmos_vth']"
   ]
  },
  {
   "cell_type": "markdown",
   "metadata": {},
   "source": [
    "## Understanding the structure of the Lookup table.\n",
    "\n",
    "While the `look_up` function abstracts all the process of accessing the LUT. It is essential to understand the structure of the LUT. The `describe_structure` function does that and `pretty_print_structure` does what it says."
   ]
  },
  {
   "cell_type": "code",
   "execution_count": null,
   "metadata": {},
   "outputs": [],
   "source": [
    "pretty_print_structure(describe_structure(nmos))"
   ]
  },
  {
   "cell_type": "markdown",
   "metadata": {},
   "source": [
    "What does the above data say? Firstly, it shows the first two and the last two elements of the \"ds\", \"gs\", \"length\" and \"sb\" array. (Or whatever your keys are). This is a one dimensional numpy array. Secondly, at the last you will see the width. Finally, you can see the shape of the 4D numpy array for parameters like \"cgg\", \"gm\" et cetera. But where is the Corner, Temperature and description? It is in the parent dictionary `z` which was imported using `np.load`."
   ]
  },
  {
   "cell_type": "code",
   "execution_count": null,
   "metadata": {},
   "outputs": [],
   "source": [
    "describe_structure(z)"
   ]
  },
  {
   "cell_type": "markdown",
   "metadata": {},
   "source": [
    "But how are the 4D arrays structured? They are structured as ds, gs, length and sb. So to access 'cgg' you can access\n",
    "it using `nmos['cgg'][ds_index][gs_index][length_index][sb_index]`. Hopefully you don't need to do this, but keeping it here just in case you are curious."
   ]
  },
  {
   "cell_type": "markdown",
   "metadata": {},
   "source": [
    "## Sample plots for practice.\n",
    "\n",
    "The aim of the following tasks is to provide ready to use templates for common plots. They will help you understand how the lookup table (LUT) or `.npy` can be used to generate plots, format them and obtain any of the device's saved DC operating point parameters. When we don't specify any width and request a quantity which depends on Width (`id` or `cgg` for example)\n",
    "it returns the result for the simulated width which is default width. To know this width you can use `nmos['w']` or `pmos['w']`. For any other widths the parameters can be scaled linearly."
   ]
  },
  {
   "cell_type": "code",
   "execution_count": null,
   "metadata": {},
   "outputs": [],
   "source": [
    "# Sweep voltage across supply. We are just creating an array for future use.\n",
    "v_sweep = np.arange(0, VDD, VOLTAGE_STEP_SIZE)\n",
    "l_sweep = np.arange(L_MIN, L_MAX, 100e-9) # 100nm steps. "
   ]
  },
  {
   "cell_type": "markdown",
   "metadata": {},
   "source": [
    "## Plotting the $I_d$ vs $V_{gs}$ characteristics of MOSFET."
   ]
  },
  {
   "cell_type": "code",
   "execution_count": null,
   "metadata": {},
   "outputs": [],
   "source": [
    "# The following one liner does the following. It looks up the value of id for the given\n",
    "# vgs (here it is a an array from 0 to VDD in steps of VOLTAGE_STEP_SIZE),\n",
    "# a length of 1um, the drain source voltage of VDD and a source bulk voltage of 0.\n",
    "id_nmos = look_up(nmos, 'id', length=1e-06, gs=v_sweep, ds=VDD, sb=0)\n",
    "id_pmos = look_up(pmos, 'id', length=1e-06, gs=v_sweep, ds=VDD, sb=0)\n",
    "\n",
    "\n",
    "fig = go.Figure()\n",
    "# while plotting we are dividing the obtained value by 1e-06 to represent it in microamps. Additionally, we are\n",
    "# taking the absolute value of the pmos current since it is negative. This should not be needed if the expressions\n",
    "# are defined correctly when importing the expression to ADE assembler.\n",
    "# NMOS plot\n",
    "fig.add_trace(go.Scatter(x=v_sweep, y=id_nmos/1e-06, mode='lines', name='NMOS', line=dict(color='red')))\n",
    "\n",
    "# PMOS plot\n",
    "fig.add_trace(go.Scatter(x=v_sweep, y=abs(id_pmos)/1e-06, mode='lines', name='PMOS', line=dict(color='magenta')))\n",
    "\n",
    "fig.update_layout(\n",
    "    title_text=r'$I_d vs V_{gs} plot for NMOS and PMOS$',\n",
    "    xaxis_title=r'$V_{gs}$ [V]',\n",
    "    yaxis_title=r'$I_d$ [$\\mu$A]'\n",
    ")\n",
    "fig.show()"
   ]
  },
  {
   "cell_type": "markdown",
   "metadata": {},
   "source": [
    "### Observations\n"
   ]
  },
  {
   "cell_type": "markdown",
   "metadata": {},
   "source": [
    "## Plotting the $I_d$ vs $V_{ds}$ characteristics of MOSFET."
   ]
  },
  {
   "cell_type": "code",
   "execution_count": null,
   "metadata": {},
   "outputs": [],
   "source": [
    "# The following one liner does the following. It looks up the value of id for the given\n",
    "# vds (here it is a an array from 0 to VDD in steps of VOLTAGE_STEP_SIZE),\n",
    "# a length of 1um, the gate source voltage of 0.8 and a source bulk voltage of 0.\n",
    "id_nmos = look_up(nmos, 'id', length=1e-06, ds=v_sweep, gs=0.8, sb=0)\n",
    "id_pmos = look_up(pmos, 'id', length=1e-06, ds=v_sweep, gs=0.8, sb=0)\n",
    "\n",
    "\n",
    "fig = go.Figure()\n",
    "# while plotting we are dividing the obtained value by 1e-06 to represent it in microamps. Additionally, we are\n",
    "# taking the absolute value of the pmos current since it is negative. This should not be needed if the expressions\n",
    "# are defined correctly when importing the expression to ADE assembler.\n",
    "# NMOS plot\n",
    "fig.add_trace(go.Scatter(x=v_sweep, y=id_nmos/1e-06, mode='lines', name='NMOS', line=dict(color='red')))\n",
    "\n",
    "# PMOS plot\n",
    "fig.add_trace(go.Scatter(x=v_sweep, y=abs(id_pmos)/1e-06, mode='lines', name='PMOS', line=dict(color='magenta')))\n",
    "\n",
    "fig.update_layout(\n",
    "    title_text=r'$I_d vs V_{ds} plot for NMOS and PMOS$',\n",
    "    xaxis_title=r'$V_{ds}$ [V]',\n",
    "    yaxis_title=r'$I_d$ [$\\mu$A]'\n",
    ")\n",
    "fig.show()"
   ]
  },
  {
   "cell_type": "markdown",
   "metadata": {},
   "source": [
    "### Observations\n",
    "\n",
    "Can you see the saturation of the drain current?"
   ]
  },
  {
   "cell_type": "markdown",
   "metadata": {},
   "source": [
    "## Multidimensional Lookups.\n",
    "\n",
    "So the `look_up` function currently does not support multidimensional lookups. However that should not stop us right now.\n",
    "The way we will do it is to iterate lookup along the parameter of interest. The following examples shows how to do so."
   ]
  },
  {
   "cell_type": "markdown",
   "metadata": {},
   "source": [
    "## Plotting the $I_d$ vs $V_{gs}$ characteristics of MOSFET for different $V_{ds}$"
   ]
  },
  {
   "cell_type": "code",
   "execution_count": null,
   "metadata": {},
   "outputs": [],
   "source": [
    "# The following one liner does the following. It looks up the value of id for the given\n",
    "# vgs (here it is a an array from 0 to VDD in steps of VOLTAGE_STEP_SIZE),\n",
    "# a length of 1um, the six linearly spaced drain source voltages from 0 to VDD and a source bulk voltage of 0.\n",
    "param_sweep = np.linspace(0, VDD, 6) # your parameter array.\n",
    "id_nmos = np.array([look_up(nmos, 'id', length=1e-06, ds=ds, gs=v_sweep, sb=0) for ds in param_sweep])\n",
    "id_pmos = np.array([look_up(pmos, 'id', length=1e-06, ds=ds, gs=v_sweep, sb=0) for ds in param_sweep])\n",
    "fig = go.Figure()\n",
    "\n",
    "# currently i am using the brute force way of appending to existing figure.\n",
    "# I will update this to a better way in the future where it takes mxn array directly.\n",
    "for idx, param in enumerate(param_sweep):\n",
    "    fig.add_trace(go.Scatter(x=v_sweep, y=id_nmos[idx], mode='lines', name=f'Vds={param} V'))\n",
    "\n",
    "fig.update_layout(title='Parametric Plot of Id vs Vgs for different Vds', xaxis_title='Vgs', yaxis_title='Id')\n",
    "fig.show()\n"
   ]
  },
  {
   "cell_type": "markdown",
   "metadata": {},
   "source": [
    "### Observations"
   ]
  },
  {
   "cell_type": "markdown",
   "metadata": {},
   "source": [
    "## Plotting the $I_d$ vs $V_{ds}$ characteristics of MOSFET for different $V_{gs}$"
   ]
  },
  {
   "cell_type": "code",
   "execution_count": null,
   "metadata": {},
   "outputs": [],
   "source": [
    "# The following one liner does the following. It looks up the value of id for the given\n",
    "# vds (here it is a an array from 0 to VDD in steps of VOLTAGE_STEP_SIZE),\n",
    "# a length of 1um, the six linearly spaced gate source voltages from 0 to VDD and a source bulk voltage of 0.\n",
    "param_sweep = np.linspace(0, VDD, 6) # your parameter array.\n",
    "id_nmos = np.array([look_up(nmos, 'id', length=1e-06, gs=gs, ds=v_sweep, sb=0) for gs in param_sweep])\n",
    "id_pmos = np.array([look_up(pmos, 'id', length=1e-06, gs=gs, ds=v_sweep, sb=0) for gs in param_sweep])\n",
    "fig = go.Figure()\n",
    "\n",
    "for idx, param in enumerate(param_sweep):\n",
    "    fig.add_trace(go.Scatter(x=v_sweep, y=id_nmos[idx], mode='lines', name=f'Vgs={param} V'))\n",
    "\n",
    "fig.update_layout(title='Parametric Plot of Id vs Vds for different Vgs', xaxis_title='Vds', yaxis_title='Id')\n",
    "fig.show()\n"
   ]
  },
  {
   "cell_type": "markdown",
   "metadata": {},
   "source": [
    "### Observations"
   ]
  },
  {
   "cell_type": "markdown",
   "metadata": {},
   "source": [
    "## Plotting the $g_m$ vs $V_{gs}$ characteristics of MOSFET."
   ]
  },
  {
   "cell_type": "code",
   "execution_count": null,
   "metadata": {},
   "outputs": [],
   "source": [
    "# The following one liner does the following. It looks up the value of gm for the given\n",
    "# vgs (here it is a an array from 0 to VDD in steps of VOLTAGE_STEP_SIZE),\n",
    "# a length of 1um, the drain source voltage of VDD and a source bulk voltage of 0.\n",
    "gm_nmos = look_up(nmos, 'gm', length=1e-06, gs=v_sweep, ds=VDD, sb=0)\n",
    "gm_pmos = look_up(pmos, 'gm', length=1e-06, gs=v_sweep, ds=VDD, sb=0)\n",
    "\n",
    "\n",
    "fig = go.Figure()\n",
    "\n",
    "fig.add_trace(go.Scatter(x=v_sweep, y=gm_nmos, mode='lines', name='NMOS', line=dict(color='red')))\n",
    "\n",
    "# PMOS plot\n",
    "fig.add_trace(go.Scatter(x=v_sweep, y=gm_pmos, mode='lines', name='PMOS', line=dict(color='magenta')))\n",
    "\n",
    "fig.update_layout(\n",
    "    title_text=r'$g_m vs V_{gs} plot for NMOS and PMOS$',\n",
    "    xaxis_title=r'$V_{gs}$ [V]',\n",
    "    yaxis_title=r'$g_m$ [A/V]'\n",
    ")\n",
    "fig.show()"
   ]
  },
  {
   "cell_type": "markdown",
   "metadata": {},
   "source": [
    "### Observations\n",
    "\n",
    "- Do you observe that gm saturates with increasing vgs."
   ]
  },
  {
   "cell_type": "markdown",
   "metadata": {},
   "source": [
    "## Plotting the $g_m\\over i_d$ vs $V_{gs}$ characteristics of MOSFET."
   ]
  },
  {
   "cell_type": "code",
   "execution_count": null,
   "metadata": {},
   "outputs": [],
   "source": [
    "# The following one liner does the following. It looks up the value of gm for the given\n",
    "# vgs (here it is a an array from 0 to VDD in steps of VOLTAGE_STEP_SIZE),\n",
    "# a length of 1um, the drain source voltage of VDD and a source bulk voltage of 0.\n",
    "gm_id_nmos = look_up(nmos, 'gm_id', length=45e-09, gs=v_sweep, ds=VDD, sb=0)\n",
    "gm_id_pmos = look_up(pmos, 'gm_id', length=45e-09, gs=v_sweep, ds=VDD, sb=0)\n",
    "\n",
    "\n",
    "fig = go.Figure()\n",
    "\n",
    "fig.add_trace(go.Scatter(x=v_sweep, y=gm_id_nmos, mode='lines', name='NMOS', line=dict(color='red')))\n",
    "\n",
    "# PMOS plot\n",
    "fig.add_trace(go.Scatter(x=v_sweep, y=abs(gm_id_pmos), mode='lines', name='PMOS', line=dict(color='magenta')))\n",
    "\n",
    "fig.update_layout(\n",
    "    title_text=r'$g_m vs V_{gs} plot for NMOS and PMOS$',\n",
    "    xaxis_title=r'$V_{gs}$ [V]',\n",
    "    yaxis_title=r'$g_m$ [A/V]'\n",
    ")\n",
    "fig.show()"
   ]
  },
  {
   "cell_type": "code",
   "execution_count": null,
   "metadata": {},
   "outputs": [],
   "source": [
    "gm_id_nmos_lut = look_up(nmos, 'gm_id', length=45e-09, gs=v_sweep, ds=VDD, sb=0)\n",
    "id_nmos_lut = look_up(nmos, 'id', length=45e-09, gs=v_sweep, ds=VDD, sb=0)\n",
    "gm_nmos_calc = np.gradient(id_nmos_lut, v_sweep)\n",
    "gm_id_nmos_calc = gm_nmos_calc/id_nmos_lut\n",
    "\n",
    "\n",
    "fig = go.Figure()\n",
    "\n",
    "fig.add_trace(go.Scatter(x=v_sweep, y=gm_id_nmos_lut, mode='lines', name='NMOS LUT', line=dict(color='red')))\n",
    "fig.add_trace(go.Scatter(x=v_sweep, y=gm_id_nmos_calc, mode='lines', name='NMOS Calc', line=dict(color='blue')))\n",
    "\n",
    "\n",
    "fig.update_layout(\n",
    "    title_text=r'$g_m vs V_{gs} plot for NMOS LUT and Calc$',\n",
    "    xaxis_title=r'$V_{gs}$ [V]',\n",
    "    yaxis_title=r'$g_m$ [A/V]'\n",
    ")\n",
    "fig.show()"
   ]
  },
  {
   "cell_type": "markdown",
   "metadata": {},
   "source": [
    "### Observations\n",
    "\n",
    "TODO: Add limits"
   ]
  },
  {
   "cell_type": "markdown",
   "metadata": {},
   "source": [
    "## Comparison between piecewise linear model and actual $g_m$"
   ]
  },
  {
   "cell_type": "markdown",
   "metadata": {},
   "source": [
    "### Observations"
   ]
  },
  {
   "cell_type": "markdown",
   "metadata": {},
   "source": [
    "## Variation of Threshold Voltage due to body effect."
   ]
  },
  {
   "cell_type": "markdown",
   "metadata": {},
   "source": [
    "### Observations"
   ]
  },
  {
   "cell_type": "markdown",
   "metadata": {},
   "source": [
    "## $g_m$ vs $V_{gs}$ for different lengths, and same $\\beta$"
   ]
  },
  {
   "cell_type": "markdown",
   "metadata": {},
   "source": [
    "### Observations"
   ]
  },
  {
   "cell_type": "markdown",
   "metadata": {},
   "source": [
    "## A comment about vdsat\n",
    "\n",
    "- Do the parameters we look up depend on the Drain Source Voltage (ds)?\n",
    "  - Absolutely.\n",
    "- Do we have to provide ds value explicitly when using `look_up`?\n",
    "  - No. The default of **VDD** is internally.\n",
    "- How much effect does changing `ds` have?\n",
    "  - Look for yourself in the code below.\n",
    "- What are the expectations?\n",
    "  - We should observe that above a certain voltage (ideally `vdsat`) our values of interest should not change much.\n",
    "  - Ideally this `vdsat` should be `vgs - vth`\n",
    "  - It could also be `2/gm_id`.\n",
    "  - What is the actual conservative approach we should be using for the design?\n",
    "\n",
    "Please make your own observations.\n",
    "Change gm_id to see the changes in the observed `vdsat` vs your estimation of `vdsat` using `vgs - vth` and `2/gm_id` methods.\n",
    "This can often lead to correct voltage headroom expectations and less surprises across corners."
   ]
  },
  {
   "cell_type": "code",
   "execution_count": 25,
   "metadata": {},
   "outputs": [
    {
     "data": {
      "application/vnd.plotly.v1+json": {
       "config": {
        "plotlyServerURL": "https://plot.ly"
       },
       "data": [
        {
         "mode": "lines",
         "type": "scatter",
         "x": [
          0.05,
          0.1,
          0.15000000000000002,
          0.2,
          0.25,
          0.3,
          0.35000000000000003,
          0.4,
          0.45,
          0.5,
          0.55,
          0.6000000000000001,
          0.6500000000000001,
          0.7000000000000001,
          0.7500000000000001,
          0.8,
          0.8500000000000001,
          0.9000000000000001,
          0.9500000000000001
         ],
         "y": [
          1.3682055014849746,
          5.584691651749771,
          10.952076422604586,
          13.695606654259857,
          14.866887510230217,
          15.431350334736043,
          15.743879137603258,
          15.936821496186933,
          16.065914782345768,
          16.159399776420457,
          16.230998210446053,
          16.28733896531861,
          16.33331314114684,
          16.372025423592557,
          16.40471694753884,
          16.430308937969258,
          16.449841490414155,
          16.462443453767307,
          16.46639309000557
         ]
        }
       ],
       "layout": {
        "template": {
         "data": {
          "bar": [
           {
            "error_x": {
             "color": "#2a3f5f"
            },
            "error_y": {
             "color": "#2a3f5f"
            },
            "marker": {
             "line": {
              "color": "#E5ECF6",
              "width": 0.5
             },
             "pattern": {
              "fillmode": "overlay",
              "size": 10,
              "solidity": 0.2
             }
            },
            "type": "bar"
           }
          ],
          "barpolar": [
           {
            "marker": {
             "line": {
              "color": "#E5ECF6",
              "width": 0.5
             },
             "pattern": {
              "fillmode": "overlay",
              "size": 10,
              "solidity": 0.2
             }
            },
            "type": "barpolar"
           }
          ],
          "carpet": [
           {
            "aaxis": {
             "endlinecolor": "#2a3f5f",
             "gridcolor": "white",
             "linecolor": "white",
             "minorgridcolor": "white",
             "startlinecolor": "#2a3f5f"
            },
            "baxis": {
             "endlinecolor": "#2a3f5f",
             "gridcolor": "white",
             "linecolor": "white",
             "minorgridcolor": "white",
             "startlinecolor": "#2a3f5f"
            },
            "type": "carpet"
           }
          ],
          "choropleth": [
           {
            "colorbar": {
             "outlinewidth": 0,
             "ticks": ""
            },
            "type": "choropleth"
           }
          ],
          "contour": [
           {
            "colorbar": {
             "outlinewidth": 0,
             "ticks": ""
            },
            "colorscale": [
             [
              0,
              "#0d0887"
             ],
             [
              0.1111111111111111,
              "#46039f"
             ],
             [
              0.2222222222222222,
              "#7201a8"
             ],
             [
              0.3333333333333333,
              "#9c179e"
             ],
             [
              0.4444444444444444,
              "#bd3786"
             ],
             [
              0.5555555555555556,
              "#d8576b"
             ],
             [
              0.6666666666666666,
              "#ed7953"
             ],
             [
              0.7777777777777778,
              "#fb9f3a"
             ],
             [
              0.8888888888888888,
              "#fdca26"
             ],
             [
              1,
              "#f0f921"
             ]
            ],
            "type": "contour"
           }
          ],
          "contourcarpet": [
           {
            "colorbar": {
             "outlinewidth": 0,
             "ticks": ""
            },
            "type": "contourcarpet"
           }
          ],
          "heatmap": [
           {
            "colorbar": {
             "outlinewidth": 0,
             "ticks": ""
            },
            "colorscale": [
             [
              0,
              "#0d0887"
             ],
             [
              0.1111111111111111,
              "#46039f"
             ],
             [
              0.2222222222222222,
              "#7201a8"
             ],
             [
              0.3333333333333333,
              "#9c179e"
             ],
             [
              0.4444444444444444,
              "#bd3786"
             ],
             [
              0.5555555555555556,
              "#d8576b"
             ],
             [
              0.6666666666666666,
              "#ed7953"
             ],
             [
              0.7777777777777778,
              "#fb9f3a"
             ],
             [
              0.8888888888888888,
              "#fdca26"
             ],
             [
              1,
              "#f0f921"
             ]
            ],
            "type": "heatmap"
           }
          ],
          "heatmapgl": [
           {
            "colorbar": {
             "outlinewidth": 0,
             "ticks": ""
            },
            "colorscale": [
             [
              0,
              "#0d0887"
             ],
             [
              0.1111111111111111,
              "#46039f"
             ],
             [
              0.2222222222222222,
              "#7201a8"
             ],
             [
              0.3333333333333333,
              "#9c179e"
             ],
             [
              0.4444444444444444,
              "#bd3786"
             ],
             [
              0.5555555555555556,
              "#d8576b"
             ],
             [
              0.6666666666666666,
              "#ed7953"
             ],
             [
              0.7777777777777778,
              "#fb9f3a"
             ],
             [
              0.8888888888888888,
              "#fdca26"
             ],
             [
              1,
              "#f0f921"
             ]
            ],
            "type": "heatmapgl"
           }
          ],
          "histogram": [
           {
            "marker": {
             "pattern": {
              "fillmode": "overlay",
              "size": 10,
              "solidity": 0.2
             }
            },
            "type": "histogram"
           }
          ],
          "histogram2d": [
           {
            "colorbar": {
             "outlinewidth": 0,
             "ticks": ""
            },
            "colorscale": [
             [
              0,
              "#0d0887"
             ],
             [
              0.1111111111111111,
              "#46039f"
             ],
             [
              0.2222222222222222,
              "#7201a8"
             ],
             [
              0.3333333333333333,
              "#9c179e"
             ],
             [
              0.4444444444444444,
              "#bd3786"
             ],
             [
              0.5555555555555556,
              "#d8576b"
             ],
             [
              0.6666666666666666,
              "#ed7953"
             ],
             [
              0.7777777777777778,
              "#fb9f3a"
             ],
             [
              0.8888888888888888,
              "#fdca26"
             ],
             [
              1,
              "#f0f921"
             ]
            ],
            "type": "histogram2d"
           }
          ],
          "histogram2dcontour": [
           {
            "colorbar": {
             "outlinewidth": 0,
             "ticks": ""
            },
            "colorscale": [
             [
              0,
              "#0d0887"
             ],
             [
              0.1111111111111111,
              "#46039f"
             ],
             [
              0.2222222222222222,
              "#7201a8"
             ],
             [
              0.3333333333333333,
              "#9c179e"
             ],
             [
              0.4444444444444444,
              "#bd3786"
             ],
             [
              0.5555555555555556,
              "#d8576b"
             ],
             [
              0.6666666666666666,
              "#ed7953"
             ],
             [
              0.7777777777777778,
              "#fb9f3a"
             ],
             [
              0.8888888888888888,
              "#fdca26"
             ],
             [
              1,
              "#f0f921"
             ]
            ],
            "type": "histogram2dcontour"
           }
          ],
          "mesh3d": [
           {
            "colorbar": {
             "outlinewidth": 0,
             "ticks": ""
            },
            "type": "mesh3d"
           }
          ],
          "parcoords": [
           {
            "line": {
             "colorbar": {
              "outlinewidth": 0,
              "ticks": ""
             }
            },
            "type": "parcoords"
           }
          ],
          "pie": [
           {
            "automargin": true,
            "type": "pie"
           }
          ],
          "scatter": [
           {
            "fillpattern": {
             "fillmode": "overlay",
             "size": 10,
             "solidity": 0.2
            },
            "type": "scatter"
           }
          ],
          "scatter3d": [
           {
            "line": {
             "colorbar": {
              "outlinewidth": 0,
              "ticks": ""
             }
            },
            "marker": {
             "colorbar": {
              "outlinewidth": 0,
              "ticks": ""
             }
            },
            "type": "scatter3d"
           }
          ],
          "scattercarpet": [
           {
            "marker": {
             "colorbar": {
              "outlinewidth": 0,
              "ticks": ""
             }
            },
            "type": "scattercarpet"
           }
          ],
          "scattergeo": [
           {
            "marker": {
             "colorbar": {
              "outlinewidth": 0,
              "ticks": ""
             }
            },
            "type": "scattergeo"
           }
          ],
          "scattergl": [
           {
            "marker": {
             "colorbar": {
              "outlinewidth": 0,
              "ticks": ""
             }
            },
            "type": "scattergl"
           }
          ],
          "scattermapbox": [
           {
            "marker": {
             "colorbar": {
              "outlinewidth": 0,
              "ticks": ""
             }
            },
            "type": "scattermapbox"
           }
          ],
          "scatterpolar": [
           {
            "marker": {
             "colorbar": {
              "outlinewidth": 0,
              "ticks": ""
             }
            },
            "type": "scatterpolar"
           }
          ],
          "scatterpolargl": [
           {
            "marker": {
             "colorbar": {
              "outlinewidth": 0,
              "ticks": ""
             }
            },
            "type": "scatterpolargl"
           }
          ],
          "scatterternary": [
           {
            "marker": {
             "colorbar": {
              "outlinewidth": 0,
              "ticks": ""
             }
            },
            "type": "scatterternary"
           }
          ],
          "surface": [
           {
            "colorbar": {
             "outlinewidth": 0,
             "ticks": ""
            },
            "colorscale": [
             [
              0,
              "#0d0887"
             ],
             [
              0.1111111111111111,
              "#46039f"
             ],
             [
              0.2222222222222222,
              "#7201a8"
             ],
             [
              0.3333333333333333,
              "#9c179e"
             ],
             [
              0.4444444444444444,
              "#bd3786"
             ],
             [
              0.5555555555555556,
              "#d8576b"
             ],
             [
              0.6666666666666666,
              "#ed7953"
             ],
             [
              0.7777777777777778,
              "#fb9f3a"
             ],
             [
              0.8888888888888888,
              "#fdca26"
             ],
             [
              1,
              "#f0f921"
             ]
            ],
            "type": "surface"
           }
          ],
          "table": [
           {
            "cells": {
             "fill": {
              "color": "#EBF0F8"
             },
             "line": {
              "color": "white"
             }
            },
            "header": {
             "fill": {
              "color": "#C8D4E3"
             },
             "line": {
              "color": "white"
             }
            },
            "type": "table"
           }
          ]
         },
         "layout": {
          "annotationdefaults": {
           "arrowcolor": "#2a3f5f",
           "arrowhead": 0,
           "arrowwidth": 1
          },
          "autotypenumbers": "strict",
          "coloraxis": {
           "colorbar": {
            "outlinewidth": 0,
            "ticks": ""
           }
          },
          "colorscale": {
           "diverging": [
            [
             0,
             "#8e0152"
            ],
            [
             0.1,
             "#c51b7d"
            ],
            [
             0.2,
             "#de77ae"
            ],
            [
             0.3,
             "#f1b6da"
            ],
            [
             0.4,
             "#fde0ef"
            ],
            [
             0.5,
             "#f7f7f7"
            ],
            [
             0.6,
             "#e6f5d0"
            ],
            [
             0.7,
             "#b8e186"
            ],
            [
             0.8,
             "#7fbc41"
            ],
            [
             0.9,
             "#4d9221"
            ],
            [
             1,
             "#276419"
            ]
           ],
           "sequential": [
            [
             0,
             "#0d0887"
            ],
            [
             0.1111111111111111,
             "#46039f"
            ],
            [
             0.2222222222222222,
             "#7201a8"
            ],
            [
             0.3333333333333333,
             "#9c179e"
            ],
            [
             0.4444444444444444,
             "#bd3786"
            ],
            [
             0.5555555555555556,
             "#d8576b"
            ],
            [
             0.6666666666666666,
             "#ed7953"
            ],
            [
             0.7777777777777778,
             "#fb9f3a"
            ],
            [
             0.8888888888888888,
             "#fdca26"
            ],
            [
             1,
             "#f0f921"
            ]
           ],
           "sequentialminus": [
            [
             0,
             "#0d0887"
            ],
            [
             0.1111111111111111,
             "#46039f"
            ],
            [
             0.2222222222222222,
             "#7201a8"
            ],
            [
             0.3333333333333333,
             "#9c179e"
            ],
            [
             0.4444444444444444,
             "#bd3786"
            ],
            [
             0.5555555555555556,
             "#d8576b"
            ],
            [
             0.6666666666666666,
             "#ed7953"
            ],
            [
             0.7777777777777778,
             "#fb9f3a"
            ],
            [
             0.8888888888888888,
             "#fdca26"
            ],
            [
             1,
             "#f0f921"
            ]
           ]
          },
          "colorway": [
           "#636efa",
           "#EF553B",
           "#00cc96",
           "#ab63fa",
           "#FFA15A",
           "#19d3f3",
           "#FF6692",
           "#B6E880",
           "#FF97FF",
           "#FECB52"
          ],
          "font": {
           "color": "#2a3f5f"
          },
          "geo": {
           "bgcolor": "white",
           "lakecolor": "white",
           "landcolor": "#E5ECF6",
           "showlakes": true,
           "showland": true,
           "subunitcolor": "white"
          },
          "hoverlabel": {
           "align": "left"
          },
          "hovermode": "closest",
          "mapbox": {
           "style": "light"
          },
          "paper_bgcolor": "white",
          "plot_bgcolor": "#E5ECF6",
          "polar": {
           "angularaxis": {
            "gridcolor": "white",
            "linecolor": "white",
            "ticks": ""
           },
           "bgcolor": "#E5ECF6",
           "radialaxis": {
            "gridcolor": "white",
            "linecolor": "white",
            "ticks": ""
           }
          },
          "scene": {
           "xaxis": {
            "backgroundcolor": "#E5ECF6",
            "gridcolor": "white",
            "gridwidth": 2,
            "linecolor": "white",
            "showbackground": true,
            "ticks": "",
            "zerolinecolor": "white"
           },
           "yaxis": {
            "backgroundcolor": "#E5ECF6",
            "gridcolor": "white",
            "gridwidth": 2,
            "linecolor": "white",
            "showbackground": true,
            "ticks": "",
            "zerolinecolor": "white"
           },
           "zaxis": {
            "backgroundcolor": "#E5ECF6",
            "gridcolor": "white",
            "gridwidth": 2,
            "linecolor": "white",
            "showbackground": true,
            "ticks": "",
            "zerolinecolor": "white"
           }
          },
          "shapedefaults": {
           "line": {
            "color": "#2a3f5f"
           }
          },
          "ternary": {
           "aaxis": {
            "gridcolor": "white",
            "linecolor": "white",
            "ticks": ""
           },
           "baxis": {
            "gridcolor": "white",
            "linecolor": "white",
            "ticks": ""
           },
           "bgcolor": "#E5ECF6",
           "caxis": {
            "gridcolor": "white",
            "linecolor": "white",
            "ticks": ""
           }
          },
          "title": {
           "x": 0.05
          },
          "xaxis": {
           "automargin": true,
           "gridcolor": "white",
           "linecolor": "white",
           "ticks": "",
           "title": {
            "standoff": 15
           },
           "zerolinecolor": "white",
           "zerolinewidth": 2
          },
          "yaxis": {
           "automargin": true,
           "gridcolor": "white",
           "linecolor": "white",
           "ticks": "",
           "title": {
            "standoff": 15
           },
           "zerolinecolor": "white",
           "zerolinewidth": 2
          }
         }
        },
        "title": {
         "text": "Plot of gm_gds vs ds"
        },
        "xaxis": {
         "title": {
          "text": "ds"
         }
        },
        "yaxis": {
         "title": {
          "text": "gm_gds"
         }
        }
       }
      }
     },
     "metadata": {},
     "output_type": "display_data"
    }
   ],
   "source": [
    "outvar = \"gm_gds\"\n",
    "ds_sweep = np.arange(50e-3, VDD, 50e-3)\n",
    "\n",
    "y = [look_up(nmos, outvar, gm_id=15, length=L_MIN, ds=ds) for ds in ds_sweep]\n",
    "\n",
    "fig = go.Figure()\n",
    "\n",
    "fig.add_trace(go.Scatter(x=ds_sweep, y=y, mode='lines'))\n",
    "\n",
    "fig.update_layout(title=f'Plot of {outvar} vs ds', xaxis_title='ds', yaxis_title=f'{outvar}')\n",
    "fig.show()"
   ]
  },
  {
   "cell_type": "code",
   "execution_count": null,
   "metadata": {},
   "outputs": [],
   "source": []
  }
 ],
 "metadata": {
  "kernelspec": {
   "display_name": "base",
   "language": "python",
   "name": "python3"
  },
  "language_info": {
   "codemirror_mode": {
    "name": "ipython",
    "version": 3
   },
   "file_extension": ".py",
   "mimetype": "text/x-python",
   "name": "python",
   "nbconvert_exporter": "python",
   "pygments_lexer": "ipython3",
   "version": "3.11.6"
  }
 },
 "nbformat": 4,
 "nbformat_minor": 2
}
